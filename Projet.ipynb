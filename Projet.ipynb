{
 "cells": [
  {
   "cell_type": "markdown",
   "metadata": {},
   "source": [
    "Projet d'optimisation groupe 1 : Maxence Lamarque / Eliott Barbier"
   ]
  },
  {
   "cell_type": "markdown",
   "metadata": {},
   "source": [
    "## 1 Etude du problème d'optimisation"
   ]
  },
  {
   "cell_type": "markdown",
   "metadata": {},
   "source": [
    "### Question 1\n",
    "\n",
    "Normalement la facture d'électrcité sur $[t_0, t_f]$ devrait s'écrire:\n",
    "$$\n",
    "\\int_{t_0}^{t_f}c(t)P(t)dt\n",
    "$$\n",
    "puisque $P(t)dt$ représente l'énergie consommée pendant dt\n",
    "C'est-à-dire une facture de, en approximant l'intégrale par la méthode des rectangles:\n",
    "$$\n",
    "\\boxed{\\sum_{i=1}^{N}\\Delta t c_i P_i}\n",
    "$$"
   ]
  },
  {
   "cell_type": "markdown",
   "metadata": {},
   "source": [
    "### Question 2\n",
    "On part de l'équation discrète pour essayer d'obtenir une équation continue, en approximant $T_{i+1} \\approx T(t_0 + \\Delta t)$, et $\\frac{dT}{dt} \\approx \\frac{T_{i+1} - T_i}{dt}$\n",
    "Et en utilisant la linéarisation de $e^{-(k+h)\\Delta t} - 1 \\approx -(k+h)\\Delta t$\n",
    "On a alors :\n",
    "$$\n",
    "\\boxed{\\frac{dT}{dt}= h(T^e - T) -kT +bP}\n",
    "$$\n",
    "\n",
    "On reconnait un terme de transfert conducto-convectif $ h(T^e - T)$, un terme de puissance interne dissipée $bP$ et enfin un terme de conduction dû au transfert de chaleur de l'extérieur vers l'intérieur $-kT$.\n",
    "Physiquement cette modélisation semble raisonnable, puisqu'elle inclue tous les transferts de chaleur de notre situation.\n",
    "\n"
   ]
  },
  {
   "cell_type": "markdown",
   "metadata": {},
   "source": [
    "### Question 3\n",
    "\n",
    "On cherche à minimiser la facture, sous contrainte sur la température et la puissance dissipée, formellement en notant:\n",
    "\n",
    "$x = (T_0, T_1, ..., T_N, P_0, ..., P_N) \\in \\mathbb{R}^{2N+2}, \\; f(x) = \\sum_{i=0}^{N}\\Delta t c_i P_i $ ; \n",
    "\n",
    "$c_{eq}(x)=(T_0-T_{in},\\; T_1-e^{-(k+h)\\Delta t}T_0 - \\frac{(1-e^{-(k+h)\\Delta t})}{k+h}(bP_0+hT_0^e),\\;..., T_N-e^{-(k+h)\\Delta t}T_{N-1} - \\frac{(1-e^{-(k+h)\\Delta t})}{k+h}(bP_{N-1}+hT_{N-1}^e), P_N) \\in \\mathbb{R}^{N+2}$\n",
    "\n",
    "et\n",
    "\n",
    "$c_{in}(x) = (T_m-T_0,\\;..., T_m-T_N,\\; T_0-T_M,\\;,..., T_N-T_M,\\; -P_0, ..., \\;-P_N,\\; P_0-P_M,...,\\; P_N-P_M) \\in \\mathbb{R}^{4n+4}$\n",
    "\n",
    "Le problème d'optimisation à résoudre se réécrit :\n",
    "\n",
    "$$min_{x \\in \\mathbb{R}^{2N+2}} f(x)$$\n",
    "$$c_{eq}(x)=0$$\n",
    "$$c_{in}(x) \\leq 0$$\n",
    "\n"
   ]
  },
  {
   "cell_type": "markdown",
   "metadata": {},
   "source": [
    "### Question 4\n",
    "f ainsi définit est linéaire, et les contraintes affines, donc il s'agit d'un problème convexe. Plus spécifiquement, il s'agit d'un problème LP."
   ]
  },
  {
   "cell_type": "markdown",
   "metadata": {},
   "source": [
    "## 2 Etude et résolution numérique du problème individuel"
   ]
  },
  {
   "cell_type": "markdown",
   "metadata": {},
   "source": [
    "### Question 5"
   ]
  },
  {
   "cell_type": "markdown",
   "metadata": {},
   "source": [
    "Etant donné la nature de notre problème d'optimisation d'une fonction différetentiable convexe sous contraintes aussi différentiables convexes, il est possible d'utiliser l'algorithme d'Uzawa, d'Arrow-Hurwitz pour rechercher un point selle du Lagrangien. Ce point selle étant alors solution du problème d'optimisation.\n",
    "\n",
    "Mais étant donné la nature LP du problème, il est préférable d'utiliser l'algorithme du simplexe."
   ]
  },
  {
   "cell_type": "code",
   "execution_count": 4,
   "metadata": {},
   "outputs": [],
   "source": [
    "import scipy.optimize\n",
    "import numpy as np"
   ]
  },
  {
   "cell_type": "code",
   "execution_count": 28,
   "metadata": {},
   "outputs": [],
   "source": [
    "#Données question 5\n",
    "c_cr = 1\n",
    "c_pl = 3/2\n",
    "Tm = 18#(°C)\n",
    "TM = 30#(°C)\n",
    "Tin = Tm\n",
    "h = 0.05#h-1\n",
    "k = 0.01#h-1\n",
    "b = 1/500#°C/Wh\n",
    "PM = 5000#W\n",
    "t0 = 23\n",
    "dt = 0.5\n",
    "n = 48#Pour une durée de 24h\n",
    "gamma = np.exp(-(k+h)*dt)\n",
    "beta = (1-gamma)/(k+h)\n",
    "\n",
    "t = np.concatenate((np.array([23., 23.5]), dt * np.arange(n - 1)))#array des temps\n",
    "Te = 4 + 8 * np.exp(-(t -12)**2/40)# array des températures extérieures\n",
    "c = np.where(((t >= 0.) & (t <= 6.) | (t>=12.) & (t<=14.)), c_cr, c_pl)#array des coûts horaires\n"
   ]
  },
  {
   "cell_type": "markdown",
   "metadata": {},
   "source": [
    "Où on a  introduit $\\gamma := e^{-(k+h)\\Delta t}\\;$ et $\\;\\beta := (\\frac{1-e^{-(k+h)\\Delta t}}{k+h})$"
   ]
  },
  {
   "cell_type": "markdown",
   "metadata": {},
   "source": [
    "On réécrit le problème d'optimisation sous la forme :\n",
    "$$f(x) = c^Tx, \\; c_{in}(x) = A_{in}x - b_{in},\\; c_{eq}(x) = A_{eq}x - b_{eq}$$\n",
    "\n",
    "Avec \n",
    "$$A_{eq} \\in \\mathbb{R}^{(N+2) \\times (2N+2)}, \\;b_{eq}\\in \\mathbb{R}^{N+2},\\;A_{in} \\in \\mathbb{R}^{(4N+4) \\times (2N+2)}, \\;b_{in}\\in \\mathbb{R}^{4N+4}, \\; c \\in \\mathbb{R}^{2N+2}$$"
   ]
  },
  {
   "cell_type": "code",
   "execution_count": 31,
   "metadata": {},
   "outputs": [],
   "source": [
    "#Ecriture des matrices décrivant le problème\n",
    "\n",
    "c = np.zeros(2*n+2)\n",
    "Aeq = np.zeros((n+2, (2*n+2)))\n",
    "beq = np.zeros(n+2)\n",
    "Ain = np.zeros((4*n+4, (2*n+2)))\n",
    "bin = np.zeros(4*n+4)\n",
    "\n",
    "for i in range():\n",
    "\n"
   ]
  },
  {
   "cell_type": "code",
   "execution_count": null,
   "metadata": {},
   "outputs": [],
   "source": []
  }
 ],
 "metadata": {
  "interpreter": {
   "hash": "23a6b913c5c0dcb48130fb95bc8c7b084c5a812df45cbb14e417b737a9d4ee46"
  },
  "kernelspec": {
   "display_name": "Python 3 (ipykernel)",
   "language": "python",
   "name": "python3"
  },
  "language_info": {
   "codemirror_mode": {
    "name": "ipython",
    "version": 3
   },
   "file_extension": ".py",
   "mimetype": "text/x-python",
   "name": "python",
   "nbconvert_exporter": "python",
   "pygments_lexer": "ipython3",
   "version": "3.9.7"
  }
 },
 "nbformat": 4,
 "nbformat_minor": 2
}
