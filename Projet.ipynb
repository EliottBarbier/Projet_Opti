{
 "cells": [
  {
   "cell_type": "markdown",
   "metadata": {},
   "source": [
    "Projet d'optimisation groupe 1 : Maxence Lamarque / Eliott Barbier"
   ]
  },
  {
   "cell_type": "markdown",
   "metadata": {},
   "source": [
    "## 1 Etude du problème d'optimisation"
   ]
  },
  {
   "cell_type": "markdown",
   "metadata": {},
   "source": [
    "### Question 1\n",
    "\n",
    "Normalement la facture d'électrcité sur $[t_0, t_f]$ devrait s'écrire:\n",
    "$$\n",
    "\\int_{t_0}^{t_f}c(t)P(t)dt\n",
    "$$\n",
    "puisque $P(t)dt$ représente l'énergie consommée pendant dt\n",
    "C'est-à-dire une facture de, en approximant l'intégrale par la méthode des rectangles:\n",
    "$$\n",
    "\\boxed{\\sum_{i=0}^{N}\\Delta t c_i P_i}\n",
    "$$"
   ]
  },
  {
   "cell_type": "markdown",
   "metadata": {},
   "source": [
    "### Question 2\n",
    "On part de l'équation discrète pour essayer d'obtenir une équation continue, en approximant $T_{i+1} \\approx T(t_0 + \\Delta t)$, et $\\frac{dT}{dt} \\approx \\frac{T_{i+1} - T_i}{dt}$\n",
    "Et en utilisant la linéarisation de $e^{-(k+h)\\Delta t} - 1 \\approx -(k+h)\\Delta t$\n",
    "On a alors :\n",
    "$$\n",
    "\\boxed{\\frac{dT}{dt}= h(T^e - T) -kT +bP}\n",
    "$$\n",
    "\n",
    "On reconnait un terme de transfert conducto-convectif $ h(T^e - T)$, un terme de puissance interne dissipée $bP$ et enfin un terme de conduction dû au transfert de chaleur de l'extérieur vers l'intérieur $-kT$.\n",
    "Physiquement cette modélisation semble raisonnable, puisqu'elle inclue tous les transferts de chaleur de notre situation.\n",
    "\n"
   ]
  },
  {
   "cell_type": "markdown",
   "metadata": {},
   "source": [
    "### Question 3\n",
    "\n",
    "On cherche à minimiser la facture, sous contrainte sur la température et la puissance dissipée, formellement en notant:\n",
    "\n",
    "$x = (T_0, T_1, ..., T_N, P_0, ..., P_N) \\in \\mathbb{R}^{2N+2}, \\; f(x) = \\sum_{i=0}^{N}\\Delta t c_i P_i $ ; \n",
    "\n",
    "\n",
    "$c_{eq}(x)=(T_0-T_{in},\\; T_1-e^{-(k+h)\\Delta t}T_0 - \\frac{(1-e^{-(k+h)\\Delta t})}{k+h}(bP_0+hT_0^e),\\;..., T_N-e^{-(k+h)\\Delta t}T_{N-1} - \\frac{(1-e^{-(k+h)\\Delta t})}{k+h}(bP_{N-1}+hT_{N-1}^e), P_N) \\in \\mathbb{R}^{N+2}$\n",
    "\n",
    "et\n",
    "\n",
    "$c_{in}(x) = (T_m-T_0,\\;..., T_m-T_N,\\; T_0-T_M,\\;,..., T_N-T_M,\\; -P_0, ..., \\;-P_N,\\; P_0-P_M,...,\\; P_N-P_M) \\in \\mathbb{R}^{4N+4}$\n",
    "\n",
    "Dans la définition de $c_ {in}$, on a fait l'hypothèse que $\\mathcal{I}_{occ}= (0, ..., N)$, dans la suite les $2N+2$ premières composantes de $c_{in}$ seront ajustées selon $\\mathcal{I}_{occ}$\n",
    "\n",
    "Le problème d'optimisation à résoudre se réécrit :\n",
    "\n",
    "$$min_{x \\in \\mathbb{R}^{2N+2}} f(x)$$\n",
    "$$c_{eq}(x)=0$$\n",
    "$$c_{in}(x) \\leq 0$$\n",
    "\n"
   ]
  },
  {
   "cell_type": "markdown",
   "metadata": {},
   "source": [
    "### Question 4\n",
    "f ainsi définit est linéaire, et les contraintes affines, donc il s'agit d'un problème convexe. Plus spécifiquement, il s'agit d'un problème LP."
   ]
  },
  {
   "cell_type": "markdown",
   "metadata": {},
   "source": [
    "## 2 Etude et résolution numérique du problème individuel"
   ]
  },
  {
   "cell_type": "markdown",
   "metadata": {},
   "source": [
    "### Question 5"
   ]
  },
  {
   "cell_type": "markdown",
   "metadata": {},
   "source": [
    "Etant donné la nature de notre problème d'optimisation d'une fonction différetentiable convexe sous contraintes aussi différentiables convexes, il est possible d'utiliser l'algorithme d'Uzawa, d'Arrow-Hurwitz pour rechercher un point selle du Lagrangien. Ce point selle étant alors solution du problème d'optimisation.\n",
    "\n",
    "Mais étant donné la nature LP du problème, il est préférable d'utiliser l'algorithme du simplexe."
   ]
  },
  {
   "cell_type": "code",
   "execution_count": 105,
   "metadata": {},
   "outputs": [],
   "source": [
    "import scipy.optimize\n",
    "import numpy as np"
   ]
  },
  {
   "cell_type": "code",
   "execution_count": 118,
   "metadata": {},
   "outputs": [],
   "source": [
    "#Données question 5\n",
    "c_cr = 1\n",
    "c_pl = 3/2\n",
    "Tm = 18.#(°C)\n",
    "TM = 30.#(°C)\n",
    "Tin = Tm\n",
    "h = 0.05#h-1\n",
    "k = 0.01#h-1\n",
    "b = 1/500#°C/Wh\n",
    "PM = 5000.#W\n",
    "t0 = 23.\n",
    "dt = 0.5\n",
    "N = 48#Pour une durée de 24h\n",
    "gamma = np.exp(-(k+h)*dt)\n",
    "beta = (1-gamma)/(k+h)\n",
    "Iocc = np.concatenate((np.arange(16, 21), np.arange(40, 51)))\n",
    "\n",
    "t = np.concatenate((np.array([23., 23.5]), dt * np.arange(N - 1)))#array des temps\n",
    "Te = 4 + 8 * np.exp(-(t -12)**2/40)# array des températures extérieures\n",
    "cost = np.where(((t >= 0.) & (t <= 6.) | (t>=12.) & (t<=14.)), c_cr, c_pl)#array des coûts horaires\n"
   ]
  },
  {
   "cell_type": "markdown",
   "metadata": {},
   "source": [
    "On réécrit le problème d'optimisation sous la forme :\n",
    "$$f(x) = c^Tx, \\; c_{in}(x) = A_{in}x - b_{in},\\; c_{eq}(x) = A_{eq}x - b_{eq}$$\n",
    "\n",
    "Avec \n",
    "$$A_{eq} \\in \\mathbb{R}^{(N+2) \\times (2N+2)}, \\;b_{eq}\\in \\mathbb{R}^{N+2},\\;A_{in} \\in \\mathbb{R}^{(4N+4) \\times (2N+2)}, \\;b_{in}\\in \\mathbb{R}^{4N+4}, \\; c \\in \\mathbb{R}^{2N+2}$$"
   ]
  },
  {
   "cell_type": "markdown",
   "metadata": {},
   "source": [
    "Où on a  introduit $\\gamma := e^{-(k+h)\\Delta t}\\;$ et $\\;\\beta := (\\frac{1-e^{-(k+h)\\Delta t}}{k+h})$"
   ]
  },
  {
   "cell_type": "code",
   "execution_count": 131,
   "metadata": {},
   "outputs": [],
   "source": [
    "#Ecriture des matrices décrivant le problème\n",
    "c = np.zeros(2*N+2)\n",
    "Aeq = np.zeros((N+2, (2*N+2)))\n",
    "beq = np.zeros(N+2)\n",
    "Ain = np.zeros((4*N+4, (2*N+2)))\n",
    "bin = np.zeros(4*N+4)"
   ]
  },
  {
   "cell_type": "markdown",
   "metadata": {},
   "source": [
    "### A vérifier c'est un enfer à faire"
   ]
  },
  {
   "cell_type": "code",
   "execution_count": 138,
   "metadata": {},
   "outputs": [],
   "source": [
    "#Vecteur ligne c:\n",
    "c[N+1:] = dt * cost\n",
    "\n",
    "#Vecteur ligne beq:\n",
    "beq[0] = Tin\n",
    "beq[1:N+1] = h*beta*Te[:len(Te)-1]\n",
    "\n",
    "#Matrice Aeq:\n",
    "\n",
    "#Première ligne\n",
    "Aeq[0, 0] = 1.\n",
    "\n",
    "#lignes suivantes j'ai pas d'autres idées que de faire ça, un peu dégeu on peut sans doute faire mieux à partir d'un produit matriciel avec une \n",
    "#matrice bien choisie\n",
    "\n",
    "for i in range(1, N+1):\n",
    "    Aeq[i, i-1] = -gamma\n",
    "    Aeq[i, i] = 1\n",
    "    Aeq[i, N + i] = -beta*b\n",
    "\n",
    "#Vecteur ligne bin:\n",
    "\n",
    "#Marche pas... bin = np.where(((bin in Iocc) & (bin <= N) | (bin in Iocc) & (bin >= N+1)), -Tm, TM)\n",
    "for i in Iocc:\n",
    "    if i <= N:\n",
    "        bin[i] = -Tm\n",
    "    else:\n",
    "        bin[i] = TM\n",
    "bin[3*N+3:] = PM\n",
    "\n",
    "\n",
    "#Matrice Ain:\n",
    "for i in Iocc:\n",
    "    if i <= N:\n",
    "        Ain[i, i] = -1.\n",
    "    else:\n",
    "        Ain[i, i - N] = 1\n",
    "        \n",
    "Ain[2*N+2:3*N+3, N+1:] = -np.eye(N+1)\n",
    "Ain[3*N+3:, N+1:] = np.eye(N+1)"
   ]
  },
  {
   "cell_type": "code",
   "execution_count": 149,
   "metadata": {},
   "outputs": [],
   "source": [
    "#Exécution de l'algorithme du simplexe:\n",
    "res = scipy.optimize.linprog(c, A_ub=Ain, b_ub=bin, A_eq=Aeq, b_eq=beq, bounds=(None, None), method='revised simplex', callback=None, options=None, x0=None)"
   ]
  },
  {
   "cell_type": "code",
   "execution_count": 150,
   "metadata": {},
   "outputs": [
    {
     "data": {
      "text/plain": [
       "False"
      ]
     },
     "execution_count": 150,
     "metadata": {},
     "output_type": "execute_result"
    }
   ],
   "source": [
    "res.success"
   ]
  },
  {
   "cell_type": "code",
   "execution_count": 151,
   "metadata": {},
   "outputs": [
    {
     "data": {
      "text/plain": [
       "array([0., 0., 0., 0., 0., 0., 0., 0., 0., 0., 0., 0., 0., 0., 0., 0., 0.,\n",
       "       0., 0., 0., 0., 0., 0., 0., 0., 0., 0., 0., 0., 0., 0., 0., 0., 0.,\n",
       "       0., 0., 0., 0., 0., 0., 0., 0., 0., 0., 0., 0., 0., 0., 0., 0., 0.,\n",
       "       0., 0., 0., 0., 0., 0., 0., 0., 0., 0., 0., 0., 0., 0., 0., 0., 0.,\n",
       "       0., 0., 0., 0., 0., 0., 0., 0., 0., 0., 0., 0., 0., 0., 0., 0., 0.,\n",
       "       0., 0., 0., 0., 0., 0., 0., 0., 0., 0., 0., 0., 0.])"
      ]
     },
     "execution_count": 151,
     "metadata": {},
     "output_type": "execute_result"
    }
   ],
   "source": [
    "res.x"
   ]
  }
 ],
 "metadata": {
  "interpreter": {
   "hash": "23a6b913c5c0dcb48130fb95bc8c7b084c5a812df45cbb14e417b737a9d4ee46"
  },
  "kernelspec": {
   "display_name": "Python 3 (ipykernel)",
   "language": "python",
   "name": "python3"
  },
  "language_info": {
   "codemirror_mode": {
    "name": "ipython",
    "version": 3
   },
   "file_extension": ".py",
   "mimetype": "text/x-python",
   "name": "python",
   "nbconvert_exporter": "python",
   "pygments_lexer": "ipython3",
   "version": "3.9.7"
  }
 },
 "nbformat": 4,
 "nbformat_minor": 2
}
