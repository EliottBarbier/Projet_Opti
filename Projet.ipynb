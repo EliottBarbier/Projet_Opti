{
 "cells": [
  {
   "cell_type": "markdown",
   "metadata": {},
   "source": [
    "Projet d'optimisation groupe 1 : Maxence Lamarque / Eliott Barbier"
   ]
  },
  {
   "cell_type": "markdown",
   "metadata": {},
   "source": [
    "## 1 Etude du problème d'optimisation"
   ]
  },
  {
   "cell_type": "markdown",
   "metadata": {},
   "source": [
    "### Question 1\n",
    "\n",
    "Normalement la facture d'électrcité sur $[t_0, t_f]$ devrait s'écrire:\n",
    "$$\n",
    "\\int_{t_0}^{t_f}c(t)P(t)dt\n",
    "$$\n",
    "puisque $P(t)dt$ représente l'énergie consommée pendant dt\n",
    "C'est-à-dire une facture de, en approximant l'intégrale par la méthode des rectangles:\n",
    "$$\n",
    "\\boxed{\\sum_{i=0}^{N}\\Delta t c_i P_i}\n",
    "$$"
   ]
  },
  {
   "cell_type": "markdown",
   "metadata": {},
   "source": [
    "### Question 2\n",
    "On part de l'équation discrète pour essayer d'obtenir une équation continue, en approximant $T_{i+1} \\approx T(t_0 + \\Delta t)$, et $\\frac{dT}{dt} \\approx \\frac{T_{i+1} - T_i}{dt}$\n",
    "Et en utilisant la linéarisation de $e^{-(k+h)\\Delta t} - 1 \\approx -(k+h)\\Delta t$\n",
    "On a alors :\n",
    "$$\n",
    "\\boxed{\\frac{dT}{dt}= h(T^e - T) -kT +bP}\n",
    "$$\n",
    "\n",
    "On reconnait un terme de transfert conducto-convectif $ h(T^e - T)$, un terme de puissance interne dissipée $bP$ et enfin un terme de conduction dû au transfert de chaleur de l'extérieur vers l'intérieur $-kT$.\n",
    "Physiquement cette modélisation semble raisonnable, puisqu'elle inclue tous les transferts de chaleur de notre situation.\n",
    "\n"
   ]
  },
  {
   "cell_type": "markdown",
   "metadata": {},
   "source": [
    "### Question 3\n",
    "\n",
    "On cherche à minimiser la facture, sous contrainte sur la température et la puissance dissipée, formellement en notant:\n",
    "\n",
    "$$x = (T_0, T_1, ..., T_N, P_0, ..., P_N) \\in \\mathbb{R}^{2N+2}, \\; f(x) = \\sum_{i=0}^{N}\\Delta t c_i P_i $$\n",
    "\n",
    "\n",
    "$c_{eq}(x)=(T_0-T_{in},\\; T_1-e^{-(k+h)\\Delta t}T_0 - \\frac{(1-e^{-(k+h)\\Delta t})}{k+h}(bP_0+hT_0^e),\\;..., T_N-e^{-(k+h)\\Delta t}T_{N-1} - \\frac{(1-e^{-(k+h)\\Delta t})}{k+h}(bP_{N-1}+hT_{N-1}^e), P_N) \\in \\mathbb{R}^{N+2}$\n",
    "\n",
    "et\n",
    "\n",
    "$$c_{in}(x) = (T_m-T_0,\\;..., T_m-T_N,\\; T_0-T_M,\\;,..., T_N-T_M,\\; -P_0, ..., \\;-P_N,\\; P_0-P_M,...,\\; P_N-P_M) \\in \\mathbb{R}^{4N+4}$$\n",
    "\n",
    "Dans la définition de $c_ {in}$, on a fait l'hypothèse que $\\mathcal{I}_{occ}= (0, ..., N)$, dans la suite les $2N+2$ premières composantes de $c_{in}$ seront ajustées selon $\\mathcal{I}_{occ}$\n",
    "\n",
    "Le problème d'optimisation à résoudre se réécrit :\n",
    "\n",
    "$$min_{x \\in \\mathbb{R}^{2N+2}} f(x)$$\n",
    "$$c_{eq}(x)=0$$\n",
    "$$c_{in}(x) \\leq 0$$\n",
    "\n"
   ]
  },
  {
   "cell_type": "markdown",
   "metadata": {},
   "source": [
    "### Question 4\n",
    "f ainsi définit est linéaire, et les contraintes affines, donc il s'agit d'un problème convexe. Plus spécifiquement, il s'agit d'un problème LP."
   ]
  },
  {
   "cell_type": "markdown",
   "metadata": {},
   "source": [
    "## 2 Etude et résolution numérique du problème individuel"
   ]
  },
  {
   "cell_type": "markdown",
   "metadata": {},
   "source": [
    "### Question 5"
   ]
  },
  {
   "cell_type": "markdown",
   "metadata": {},
   "source": [
    "Etant donné la nature de notre problème d'optimisation d'une fonction différetentiable convexe sous contraintes aussi différentiables convexes, il est possible d'utiliser l'algorithme d'Uzawa, d'Arrow-Hurwitz pour rechercher un point selle du Lagrangien. Ce point selle étant alors solution du problème d'optimisation.\n",
    "\n",
    "Mais étant donné la nature LP du problème, il est préférable d'utiliser l'algorithme du simplexe."
   ]
  },
  {
   "cell_type": "code",
   "execution_count": 2,
   "metadata": {},
   "outputs": [],
   "source": [
    "import scipy.optimize\n",
    "import numpy as np\n",
    "import matplotlib.pyplot as plt"
   ]
  },
  {
   "cell_type": "code",
   "execution_count": 3,
   "metadata": {},
   "outputs": [],
   "source": [
    "#Données question 5\n",
    "c_cr = 1\n",
    "c_pl = 3/2\n",
    "Tm = 18.#(°C)\n",
    "TM = 30.#(°C)\n",
    "Tin = Tm\n",
    "h = 0.05#h-1\n",
    "k = 0.01#h-1\n",
    "b = 1/500#°C/Wh\n",
    "PM = 5000.#W\n",
    "t0 = 23.\n",
    "dt = 0.5\n",
    "N = 48#Pour une durée de 24h\n",
    "gamma = np.exp(-(k+h)*dt)\n",
    "beta = (1-gamma)/(k+h)\n",
    "Iocc = np.concatenate((np.arange(16, 21), np.arange(38, 49)))\n",
    "tab_bool = np.array([1 if i in Iocc else 0 for i in range(N + 1)])\n",
    "\n",
    "\n",
    "t = np.concatenate((np.array([23., 23.5]), dt * np.arange(N - 1)))#array des temps modulo 24\n",
    "Te = 4 + 8 * np.exp(-(t -12)**2/40)# array des températures extérieures\n",
    "cost = np.where(((t >= 0.) & (t <= 6.) | (t>=12.) & (t<=14.)), c_cr, c_pl)#array des coûts horaires\n"
   ]
  },
  {
   "cell_type": "markdown",
   "metadata": {},
   "source": [
    "Où on a  introduit $\\gamma := e^{-(k+h)\\Delta t}\\;$ et $\\;\\beta := (\\frac{1-e^{-(k+h)\\Delta t}}{k+h})$"
   ]
  },
  {
   "cell_type": "markdown",
   "metadata": {},
   "source": [
    "On réécrit le problème d'optimisation sous la forme :\n",
    "$$f(x) = c^Tx, \\; c_{in}(x) = A_{in}x - b_{in},\\; c_{eq}(x) = A_{eq}x - b_{eq}$$\n",
    "\n",
    "Avec \n",
    "$$A_{eq} \\in \\mathbb{R}^{(N+2) \\times (2N+2)}, \\;b_{eq}\\in \\mathbb{R}^{N+2},\\;A_{in} \\in \\mathbb{R}^{(4N+4) \\times (2N+2)}, \\;b_{in}\\in \\mathbb{R}^{4N+4}, \\; c \\in \\mathbb{R}^{2N+2}$$"
   ]
  },
  {
   "cell_type": "markdown",
   "metadata": {},
   "source": [
    "### Question 6"
   ]
  },
  {
   "cell_type": "code",
   "execution_count": 4,
   "metadata": {},
   "outputs": [],
   "source": [
    "#Ecriture des matrices décrivant le problème\n",
    "c = np.zeros( (2*N+2,) ) \n",
    "Aeq = np.zeros((N+2, (2*N+2)))\n",
    "beq = np.zeros( (N+2,) )\n",
    "Ain = np.zeros((4*N+4, (2*N+2)))\n",
    "b_in = np.zeros( (4*N+4,) )    \n",
    "cost = np.where(((t >= 0.) & (t <= 6.) | (t>=12.) & (t<=14.)), c_cr, c_pl)"
   ]
  },
  {
   "cell_type": "code",
   "execution_count": 5,
   "metadata": {},
   "outputs": [],
   "source": [
    "def compute_matrix(c_cr=c_cr, c_pl=c_pl):\n",
    "    '''\n",
    "    Calcul les matrices utilisées dans le problème d'optimisation traité\n",
    "    Paramètres: c_cr coût heure creuse, c_pl coût heure pleine\n",
    "    '''\n",
    "\n",
    "    #Vecteur ligne c:\n",
    "    c[N+1:] = dt * cost\n",
    "\n",
    "    #Vecteur ligne beq:\n",
    "    beq[0] = Tin # 1 condition\n",
    "    beq[1:N+1] = h*beta*Te[:len(Te)-1] #N condition\n",
    "    #Le b_eq en N+1 correspond à la contrainte P_N = 0\n",
    "\n",
    "    #Matrice Aeq:\n",
    "\n",
    "    #Première ligne\n",
    "    Aeq[0, 0] = 1.\n",
    "\n",
    "    #lignes suivantes j'ai pas d'autres idées que de faire ça, un peu dégeu on peut sans doute faire mieux à partir d'un produit matriciel avec une \n",
    "    #matrice bien choisie\n",
    "\n",
    "    for i in range(1, N+1):\n",
    "        Aeq[i, i-1] = -gamma\n",
    "        Aeq[i, i] = 1\n",
    "        Aeq[i, N + i] = -beta*b\n",
    "\n",
    "    #Vecteur ligne bin:\n",
    "\n",
    "    #Marche pas... bin = np.where(((bin in Iocc) & (bin <= N) | (bin in Iocc) & (bin >= N+1)), -Tm, TM)\n",
    "    for i in Iocc:\n",
    "            b_in[i] = -Tm\n",
    "            b_in[i+N+1] = TM\n",
    "    b_in[3*N+3:] = PM\n",
    "\n",
    "\n",
    "    #Matrice Ain:\n",
    "    for i in Iocc:\n",
    "            Ain[i, i] = -1.\n",
    "            Ain[i+N+1, i] = 1\n",
    "            \n",
    "    Ain[2*N+2:3*N+3, N+1:] = -np.eye(N+1)\n",
    "    Ain[3*N+3:, N+1:] = np.eye(N+1)"
   ]
  },
  {
   "cell_type": "code",
   "execution_count": 6,
   "metadata": {},
   "outputs": [],
   "source": [
    "#Exécution de l'algorithme du simplexe:\n",
    "compute_matrix()\n",
    "res = scipy.optimize.linprog(c, A_ub=Ain, b_ub=b_in, A_eq=Aeq, b_eq=beq, bounds=(None, None), method='revised simplex', callback=None, options=None, x0=None)"
   ]
  },
  {
   "cell_type": "code",
   "execution_count": 7,
   "metadata": {},
   "outputs": [
    {
     "name": "stdout",
     "output_type": "stream",
     "text": [
      "res.success=True\n",
      "Les températures :  [18.         17.57610183 17.16238621 16.75905952 16.36949115 15.9937818\n",
      " 15.63212621 15.28481514 14.95223287 14.63484921 14.33320482 14.04788911\n",
      " 13.77951036 13.52865818 15.0596063  19.7188933  19.32711722 18.95989191\n",
      " 18.61681733 18.29719513 18.         17.72386596 17.46708995 17.22765423\n",
      " 17.00326778 16.79142526 16.58948071 16.39473212 16.20451163 16.01627592\n",
      " 18.27239861 22.93490683 22.52412128 22.11427925 21.70427224 21.29340195\n",
      " 20.88136173 20.46820155 20.05428007 19.64020774 19.22678534 18.81494186\n",
      " 18.4056754  18.         18.         18.         18.         18.\n",
      " 18.        ]\n",
      "Les puissances : [   0.            0.            0.            0.            0.\n",
      "    0.            0.            0.            0.            0.\n",
      "    0.            0.            0.         1790.33541736 5000.\n",
      "    0.            0.            0.            0.            0.\n",
      "    0.            0.            0.            0.            0.\n",
      "    0.            0.            0.            0.         2481.56145749\n",
      " 5000.            0.            0.            0.            0.\n",
      "    0.            0.            0.            0.            0.\n",
      "    0.            0.            0.          407.14620161  413.60123136\n",
      "  419.05149326  423.58300028  427.29408839    0.        ]\n",
      "res.nit=68\n"
     ]
    }
   ],
   "source": [
    "#Vérification du succès de l'algortihme\n",
    "print(f\"{res.success=}\")\n",
    "print(\"Les températures : \", res.x[0:N+1])\n",
    "print(\"Les puissances :\", res.x[N+1:])\n",
    "print(f\"{res.nit=}\") #Nombre d'itérations\""
   ]
  },
  {
   "cell_type": "code",
   "execution_count": 8,
   "metadata": {},
   "outputs": [
    {
     "data": {
      "image/png": "[encoded data removed]",
      "text/plain": [
       "<Figure size 360x216 with 3 Axes>"
      ]
     },
     "metadata": {
      "needs_background": "light"
     },
     "output_type": "display_data"
    }
   ],
   "source": [
    "\n",
    "#Résultats\n",
    "T = res.x[:N+1]\n",
    "P = res.x[N+1:]\n",
    "\n",
    "#Affichage du résultat:\n",
    "\n",
    "#Température\n",
    "fig, axes = plt.subplots(nrows=1, ncols=3, figsize=(5, 3))\n",
    "axes[0].plot(np.arange(N+1), T, marker=\"o\")\n",
    "axes[0].set_xlabel(\"Temps(h)\")\n",
    "axes[0].set_ylabel(\"Température(°C)\")\n",
    "axes[0].set_title(\"Profil de la température\")\n",
    "axes[0].set_xticks(ticks=[0, 12, 22, 32, 42, 48], labels=[\"23h\", \"5h\", \"10h\", \"15h\", \"20h\", \"23h\"])\n",
    "\n",
    "#Puissance\n",
    "axes[1].plot(np.arange(N+1), P, marker=\"o\")\n",
    "axes[1].set_xlabel(\"Temps(h)\")\n",
    "axes[1].set_ylabel(\"Puissance(W)\")\n",
    "axes[1].set_title(\"Profil de la puissance\")\n",
    "axes[1].set_xticks(ticks=[0, 12, 22, 32, 42, 48], labels=[\"23h\", \"5h\", \"10h\", \"15h\", \"20h\", \"23h\"])\n",
    "\n",
    "#Iocc\n",
    "axes[2].scatter(np.arange(N+1), tab_bool, marker=\"o\")\n",
    "axes[2].set_xlabel(\"Temps(h)\")\n",
    "axes[2].set_title(\"Horaires de présence\")\n",
    "axes[2].set_xticks(ticks=[0, 12, 22, 32, 42, 48], labels=[\"23h\", \"5h\", \"10h\", \"15h\", \"20h\", \"23h\"])\n",
    "\n",
    "plt.subplots_adjust(left=0.1,\n",
    "                    bottom=0.2, \n",
    "                    right=2, \n",
    "                    top=1.4, \n",
    "                    wspace=0.4, \n",
    "                    hspace=0.4)\n",
    "plt.show()"
   ]
  },
  {
   "cell_type": "code",
   "execution_count": 9,
   "metadata": {},
   "outputs": [
    {
     "name": "stdout",
     "output_type": "stream",
     "text": [
      "Total de la facture :8703.96 €\n"
     ]
    }
   ],
   "source": [
    "#Résultat de la facture après optimisation\n",
    "print(f\"Total de la facture :{round(res.fun, 2)} €\")"
   ]
  },
  {
   "cell_type": "markdown",
   "metadata": {},
   "source": [
    "Commentaires :\n",
    "La facture est extrêment salée pour seulement 24 heures, à moins d'être propriétaire de Tesla l'hiver risque d'être rude, ou alors notre méthode de résolution est inadaptée. Le problème vient surement de l'unité des coûts qui a été supposée être en euro."
   ]
  },
  {
   "cell_type": "markdown",
   "metadata": {},
   "source": [
    "### Question 7"
   ]
  },
  {
   "cell_type": "markdown",
   "metadata": {},
   "source": [
    "### Avec $c_{pl} = \\frac{7}{4}$"
   ]
  },
  {
   "cell_type": "code",
   "execution_count": 10,
   "metadata": {},
   "outputs": [],
   "source": [
    "#Exécution de l'algortihme du simplexe, c_pl = 7/4\n",
    "c = np.zeros( (2*N+2,) ) \n",
    "Aeq = np.zeros((N+2, (2*N+2)))\n",
    "beq = np.zeros( (N+2,) )\n",
    "Ain = np.zeros((4*N+4, (2*N+2)))\n",
    "b_in = np.zeros( (4*N+4,) )\n",
    "compute_matrix(c_pl=7/4)\n",
    "res = scipy.optimize.linprog(c, A_ub=Ain, b_ub=b_in, A_eq=Aeq, b_eq=beq, bounds=(None, None), method='revised simplex', callback=None, options=None, x0=None)"
   ]
  },
  {
   "cell_type": "code",
   "execution_count": 11,
   "metadata": {},
   "outputs": [
    {
     "data": {
      "image/png": "[encoded data removed]",
      "text/plain": [
       "<Figure size 360x216 with 3 Axes>"
      ]
     },
     "metadata": {
      "needs_background": "light"
     },
     "output_type": "display_data"
    }
   ],
   "source": [
    "#Avec des tarifs d'heures pleines différents:\n",
    "\n",
    "#Avec c_pl = 7/4\n",
    "\n",
    "c = np.zeros( (2*N+2,) ) \n",
    "Aeq = np.zeros((N+2, (2*N+2)))\n",
    "beq = np.zeros( (N+2,) )\n",
    "Ain = np.zeros((4*N+4, (2*N+2)))\n",
    "b_in = np.zeros( (4*N+4,) )\n",
    "compute_matrix(c_pl=7/4)\n",
    "\n",
    "#Résultats\n",
    "T = res.x[:N+1]\n",
    "P = res.x[N+1:]\n",
    "\n",
    "#Affichage du résultat:\n",
    "\n",
    "#Température\n",
    "fig, axes = plt.subplots(nrows=1, ncols=3, figsize=(5, 3))\n",
    "axes[0].plot(np.arange(N+1), T, marker=\"o\")\n",
    "axes[0].set_xlabel(\"Temps(h)\")\n",
    "axes[0].set_ylabel(\"Température(°C)\")\n",
    "axes[0].set_title(\"Profil de la température\")\n",
    "axes[0].set_xticks(ticks=[0, 12, 22, 32, 42, 48], labels=[\"23h\", \"5h\", \"10h\", \"15h\", \"20h\", \"23h\"])\n",
    "\n",
    "#Puissance\n",
    "axes[1].plot(np.arange(N+1), P, marker=\"o\")\n",
    "axes[1].set_xlabel(\"Temps(h)\")\n",
    "axes[1].set_ylabel(\"Puissance(W)\")\n",
    "axes[1].set_title(\"Profil de la puissance\")\n",
    "axes[1].set_xticks(ticks=[0, 12, 22, 32, 42, 48], labels=[\"23h\", \"5h\", \"10h\", \"15h\", \"20h\", \"23h\"])\n",
    "\n",
    "#Iocc\n",
    "axes[2].scatter(np.arange(N+1), tab_bool, marker=\"o\")\n",
    "axes[2].set_xlabel(\"Temps(h)\")\n",
    "axes[2].set_title(\"Horaires de présence\")\n",
    "axes[2].set_xticks(ticks=[0, 12, 22, 32, 42, 48], labels=[\"23h\", \"5h\", \"10h\", \"15h\", \"20h\", \"23h\"])\n",
    "\n",
    "plt.subplots_adjust(left=0.1,\n",
    "                    bottom=0.2, \n",
    "                    right=2, \n",
    "                    top=1.4, \n",
    "                    wspace=0.4, \n",
    "                    hspace=0.4)\n",
    "plt.show()"
   ]
  },
  {
   "cell_type": "code",
   "execution_count": 12,
   "metadata": {},
   "outputs": [
    {
     "name": "stdout",
     "output_type": "stream",
     "text": [
      "Total de la facture :8703.96 €\n"
     ]
    }
   ],
   "source": [
    "#Résultat de la facture après optimisation avec c_pl=7/4\n",
    "print(f\"Total de la facture :{round(res.fun, 2)} €\")"
   ]
  },
  {
   "cell_type": "markdown",
   "metadata": {},
   "source": [
    "### Avec $c_{pl} = 2$"
   ]
  },
  {
   "cell_type": "code",
   "execution_count": 13,
   "metadata": {},
   "outputs": [],
   "source": [
    "#Exécution de l'algortihme du simplexe, c_pl = 2\n",
    "c = np.zeros( (2*N+2,) ) \n",
    "Aeq = np.zeros((N+2, (2*N+2)))\n",
    "beq = np.zeros( (N+2,) )\n",
    "Ain = np.zeros((4*N+4, (2*N+2)))\n",
    "b_in = np.zeros( (4*N+4,) )\n",
    "compute_matrix(c_pl=2)\n",
    "res = scipy.optimize.linprog(c, A_ub=Ain, b_ub=b_in, A_eq=Aeq, b_eq=beq, bounds=(None, None), method='revised simplex', callback=None, options=None, x0=None)"
   ]
  },
  {
   "cell_type": "code",
   "execution_count": 14,
   "metadata": {},
   "outputs": [
    {
     "data": {
      "image/png": "[encoded data removed]",
      "text/plain": [
       "<Figure size 360x216 with 3 Axes>"
      ]
     },
     "metadata": {
      "needs_background": "light"
     },
     "output_type": "display_data"
    }
   ],
   "source": [
    "#Avec des tarifs d'heures pleines différents:\n",
    "\n",
    "#Avec c_pl = 2\n",
    "\n",
    "c = np.zeros( (2*N+2,) ) \n",
    "Aeq = np.zeros((N+2, (2*N+2)))\n",
    "beq = np.zeros( (N+2,) )\n",
    "Ain = np.zeros((4*N+4, (2*N+2)))\n",
    "b_in = np.zeros( (4*N+4,) )\n",
    "compute_matrix(c_pl=7/4)\n",
    "\n",
    "#Résultats\n",
    "T = res.x[:N+1]\n",
    "P = res.x[N+1:]\n",
    "\n",
    "#Affichage du résultat:\n",
    "\n",
    "#Température\n",
    "fig, axes = plt.subplots(nrows=1, ncols=3, figsize=(5, 3))\n",
    "axes[0].plot(np.arange(N+1), T, marker=\"o\")\n",
    "axes[0].set_xlabel(\"Temps(h)\")\n",
    "axes[0].set_ylabel(\"Température(°C)\")\n",
    "axes[0].set_title(\"Profil de la température\")\n",
    "axes[0].set_xticks(ticks=[0, 12, 22, 32, 42, 48], labels=[\"23h\", \"5h\", \"10h\", \"15h\", \"20h\", \"23h\"])\n",
    "\n",
    "#Puissance\n",
    "axes[1].plot(np.arange(N+1), P, marker=\"o\")\n",
    "axes[1].set_xlabel(\"Temps(h)\")\n",
    "axes[1].set_ylabel(\"Puissance(W)\")\n",
    "axes[1].set_title(\"Profil de la puissance\")\n",
    "axes[1].set_xticks(ticks=[0, 12, 22, 32, 42, 48], labels=[\"23h\", \"5h\", \"10h\", \"15h\", \"20h\", \"23h\"])\n",
    "\n",
    "#Iocc\n",
    "axes[2].scatter(np.arange(N+1), tab_bool, marker=\"o\")\n",
    "axes[2].set_xlabel(\"Temps(h)\")\n",
    "axes[2].set_title(\"Horaires de présence\")\n",
    "axes[2].set_xticks(ticks=[0, 12, 22, 32, 42, 48], labels=[\"23h\", \"5h\", \"10h\", \"15h\", \"20h\", \"23h\"])\n",
    "\n",
    "plt.subplots_adjust(left=0.1,\n",
    "                    bottom=0.2, \n",
    "                    right=2, \n",
    "                    top=1.4, \n",
    "                    wspace=0.4, \n",
    "                    hspace=0.4)\n",
    "plt.show()"
   ]
  },
  {
   "cell_type": "code",
   "execution_count": 15,
   "metadata": {},
   "outputs": [
    {
     "name": "stdout",
     "output_type": "stream",
     "text": [
      "Total de la facture :8703.96 €\n"
     ]
    }
   ],
   "source": [
    "#Résultat de la facture après optimisation avec c_pl=2\n",
    "print(f\"Total de la facture :{round(res.fun, 2)} €\")"
   ]
  },
  {
   "cell_type": "markdown",
   "metadata": {},
   "source": [
    "Commentaires:\n",
    "Sur les heures creuses, la température augmente plus lorsque $c_{pl}$ augmente, pour compenser la hausse des prix."
   ]
  },
  {
   "cell_type": "markdown",
   "metadata": {},
   "source": [
    "## Partie 3"
   ]
  },
  {
   "cell_type": "markdown",
   "metadata": {},
   "source": [
    "### Question 8.a)"
   ]
  },
  {
   "cell_type": "markdown",
   "metadata": {},
   "source": [
    "On cherche à minimiser la facture globale, sous contrainte sur la température et la puissance dissipée; formellement en notant:\n",
    "$$x = (T^{1}_0, T^{1}_1, ..., T^{1}_N, P^{1}_0, ..., P^{1}_N, ..., T^{n_l}_0, T^{n_l}_1, ..., T^{n_l}_N, P^{n_l}_0, ..., P^{n_l}_N) \\in \\mathbb{R}^{(2N+2){n_l}}$$\n",
    "\n",
    "\n",
    "$$f(x) = \\sum_{j=1}^{n_l}\\sum_{i=0}^{N}\\Delta t c_i P^{j}_i $$\n"
   ]
  },
  {
   "cell_type": "markdown",
   "metadata": {},
   "source": [
    "\n",
    "$$c_{eq}(x)=(T^{1}_0-T_{in},\\; T^{1}_1-e^{-(k+h+\\sum_{k \\ne 1}h_{1k})\\Delta t}T^{1}_0 - \\frac{(1-e^{-(k+h+\\sum_{k \\ne 1}h_{1k})\\Delta t})}{k+h+\\sum_{k \\ne 1}h_{1k}}(bP^{1}_0+hT_0^e+\\sum_{k \\ne 1}h_{1k}T^{k}_{0}),\\;...\\newline \\newline,\\; T^{1}_N-e^{-(k+h+\\sum_{k \\ne 1}h_{1k})\\Delta t}T^{1}_{N-1} - \\frac{(1-e^{-(k+h+\\sum_{k \\ne 1}h_{1k})\\Delta t})}{k+h+\\sum_{k \\ne 1}h_{1k}}(bP^{1}_{N-1}+hT_{N-1}^e+\\sum_{k \\ne 1}h_{1k}T^{k}_{N-1}),\\; P^{1}_N,... \\newline \\newline,\\; T^{n_l}_0-T_{in},\\; T^{n_l}_1-e^{-(k+h+\\sum_{k \\ne n_l}h_{n_{l}k})\\Delta t}T^{n_l}_0 - \\frac{(1-e^{-(k+h+\\sum_{k \\ne n_l}h_{n_{l}k})\\Delta t})}{k+h+\\sum_{k \\ne n_l}h_{n_{l}k}}(bP^{n_l}_0+hT_0^e+\\sum_{k \\ne n_l}h_{n_{l}k}T^{k}_{0}),\\;...\\newline \\newline,\\; T^{n_l}_N-e^{-(k+h+\\sum_{k \\ne n_l}h_{n_{l}k})\\Delta t}T^{n_l}_{N-1} - \\frac{(1-e^{-(k+h+\\sum_{k \\ne n_l}h_{n_{l}k})\\Delta t})}{k+h+\\sum_{k \\ne n_l}h_{n_{l}k}}(bP^{n_l}_{N-1}+hT_{N-1}^e+\\sum_{k \\ne n_l}h_{n_{l}k}T^{k}_{N-1}),\\; P^{n_l}_N) \\in \\mathbb{R}^{(N+2)n_l}$$"
   ]
  },
  {
   "cell_type": "markdown",
   "metadata": {},
   "source": [
    "#"
   ]
  },
  {
   "cell_type": "markdown",
   "metadata": {},
   "source": [
    "$$c_{in}(x) = (T^{1}_m-T^{1}_0,\\;..., T^{1}_m-T^{1}_N,\\; T^{1}_0-T^{1}_M,\\;..., T^{1}_N-T^{1}_M,\\; -P^{1}_0, ..., \\;-P^{1}_N,\\; P^{1}_0-P^{1}_M,...,\\; P^{1}_N-P^{1}_M,... \\newline \\newline, T^{n_l}_m-T^{n_l}_0,\\;..., T^{n_l}_m-T^{n_l}_N,\\; T^{1}_0-T^{1}_M,\\;,..., T^{n_l}_N-T^{n_l}_M,\\; -P^{n_l}_0, ..., \\;-P^{n_l}_N,\\; P^{n_l}_0-P^{n_l}_M,...,\\; P^{n_l}_N-P^{n_l}_M) \\in \\mathbb{R}^{(4N+4)n_l}$$\n",
    "\n",
    "Dans la définition de $c_ {in}$, on a fait l'hypothèse que $\\mathcal{I}_{occ}= (0, ..., N)$, dans la suite les composantes de $c_{in}$ seront ajustées selon $\\mathcal{I}_{occ}$\n",
    "\n",
    "\n",
    "Le problème d'optimisation à résoudre se réécrit :\n",
    "\n",
    "$$min_{x \\in \\mathbb{R}^{(2N+2)n_l}} f(x)$$\n",
    "$$c_{eq}(x)=0$$\n",
    "$$c_{in}(x) \\leq 0$$"
   ]
  },
  {
   "cell_type": "markdown",
   "metadata": {},
   "source": [
    "On réécrit le problème d'optimisation sous la forme matricielle suivante:\n",
    "$$f(x) = c^Tx, \\; c_{in}(x) = A_{in}x - b_{in},\\; c_{eq}(x) = A_{eq}x - b_{eq}$$\n",
    "\n",
    "Avec \n",
    "$$A_{eq} \\in \\mathbb{R}^{(N+2)n_l \\times (2N+2)n_l}, \\;b_{eq}\\in \\mathbb{R}^{(N+2)n_l},\\;A_{in} \\in \\mathbb{R}^{(4N+4)n_l \\times (2N+2)n_l}, \\;b_{in}\\in \\mathbb{R}^{(4N+4)n_l}, \\; c \\in \\mathbb{R}^{(2N+2)n_l}$$"
   ]
  },
  {
   "cell_type": "markdown",
   "metadata": {},
   "source": [
    "### Question 8.b)"
   ]
  },
  {
   "cell_type": "markdown",
   "metadata": {},
   "source": [
    "f ainsi définit est linéaire, et les contraintes affines, donc il s'agit d'un problème convexe. Plus spécifiquement, il s'agit d'un problème LP.\n",
    "Les propriétés du problème restent inchangées, on peut donc tout à fait réutiliser les mêmes méthodes de résolution.\n",
    "\n",
    "D'un point de vue pratique cette méthode de pilotage à l'avantage de pouvoir régler les puissances et températures de tous les logements, permettant alors de minimiser la facture totale. Néanmoins pour une propriété donnée, cette méthode est moins avantageuse puisque si les résidents ont des heures de présence différentes, elle inciterait à chauffer le domicile d'une personne absente pour satisfaire les contraintes de température d'un autre domicile avec les résidents présents."
   ]
  },
  {
   "cell_type": "markdown",
   "metadata": {},
   "source": [
    "### Question 8.c)"
   ]
  },
  {
   "cell_type": "code",
   "execution_count": 16,
   "metadata": {},
   "outputs": [],
   "source": [
    "#On remet à jour l'array cost avec les bonnes valeurs\n",
    "c_cr = 1\n",
    "c_pl = 3/2\n",
    "cost = np.where(((t >= 0.) & (t <= 6.) | (t>=12.) & (t<=14.)), c_cr, c_pl)"
   ]
  },
  {
   "cell_type": "code",
   "execution_count": 17,
   "metadata": {},
   "outputs": [],
   "source": [
    "#Constantes introduites pour simplifier l'écriture\n",
    "gamma = np.exp(-(k+h+h)*dt) #Car h12=h21=h et on a que 2 maisons\n",
    "beta = (1 - gamma)/(k+h+h)\n",
    "Tm1 = 18\n",
    "Tm2 = 20\n",
    "\n",
    "#Ecriture des matrices décrivant le problème\n",
    "Aeq = np.zeros( (2*(N+2), 2*(2*N+2) ) )\n",
    "c = np.zeros( (2*(2*N+2),) )\n",
    "beq = np.zeros( (2*(N+2),) )\n",
    "Ain = np.zeros( (2*(4*N+4), 2*(2*N+2)) )\n",
    "b_in = np.zeros( (2*(4*N+4),) )"
   ]
  },
  {
   "cell_type": "code",
   "execution_count": 18,
   "metadata": {},
   "outputs": [],
   "source": [
    "#Mise en place du problème\n",
    "c[N+1:2*N+2] = dt * cost\n",
    "c[3*N+3:] = dt * cost\n",
    "\n",
    "beq_1 = np.zeros( (N+2,) )\n",
    "beq_1[0] = Tm1 # 1 condition\n",
    "beq_1[1:N+1] = h*beta*Te[:len(Te)-1] #N conditions\n",
    "\n",
    "beq_2 = np.zeros( (N+2,) )\n",
    "beq_2[0] = Tm2 # 1 condition\n",
    "beq_1[1:N+1] = h*beta*Te[:len(Te)-1] #N conditions\n",
    "\n",
    "beq[:N+2] = beq_1\n",
    "beq[N+2:] = beq_2\n",
    "\n",
    "#On décompose la matrice Aeq en 4 blocs, et on peut réutiliser les constructions précédentents pour Aeq_1 et Aeq_2\n",
    "Aeq_1 = np.zeros( (N+2, 2*N+2) )\n",
    "Aeq_2 = np.zeros( (N+2, 2*N+2) )\n",
    "Aeq_3 = np.zeros( (N+2, 2*N+2) )\n",
    "Aeq_4 = np.zeros( (N+2, 2*N+2) )\n",
    "\n",
    "Aeq_1[0, 0] = 1.\n",
    "for i in range(1, N+1):\n",
    "    Aeq_1[i, i-1] = -gamma\n",
    "    Aeq_1[i, i] = 1\n",
    "    Aeq_1[i, N + i] = -beta*b\n",
    "    Aeq_2[i,i-1] = -beta*h\n",
    "\n",
    "\n",
    "Aeq_3[0, 0] = 1.\n",
    "for i in range(1, N+1):\n",
    "    Aeq_3[i, i-1] = -gamma\n",
    "    Aeq_3[i, i] = 1\n",
    "    Aeq_3[i, N + i] = -beta*b\n",
    "    Aeq_4[i,i-1] = -beta*h\n",
    "\n",
    "Aeq[0:N+2, 0:2*N+2] = Aeq_1\n",
    "Aeq[0:N+2, 2*N+2:] = Aeq_2\n",
    "Aeq[N+2:, 0:2*N+2] = Aeq_4\n",
    "Aeq[N+2:, 2*N+2:] = Aeq_3\n",
    "#On recrée Ain, par bloc aussi, c'est plus facile car elle est diagonale par blocs avec comme bloque la Ain précédente : (cas où Iocc est le même pour les 2 maisons, sinon\n",
    "#les 2 matrices dans la diagonale ne sont pas les mêmes.)\n",
    "\n",
    "Ain_1 = np.zeros( (4*N+4, 2*N+2) )\n",
    "for i in Iocc:\n",
    "    Ain_1[i, i] = -1.\n",
    "    Ain_1[i+N+1, i] = 1\n",
    "Ain_1[2*N+2:3*N+3, N+1:] = -np.eye(N+1)\n",
    "Ain_1[3*N+3:, N+1:] = np.eye(N+1)\n",
    "\n",
    "Ain[0:4*N+4,0:2*N+2] = Ain_1\n",
    "Ain[4*N+4:,2*N+2:] = Ain_1\n",
    "\n",
    "b_in_1 = np.zeros( (4*N+4,) )\n",
    "for i in Iocc:\n",
    "    b_in_1[i] = -Tm1\n",
    "    b_in_1[i+N+1] = TM\n",
    "b_in_1[3*N+3:] = PM\n",
    "\n",
    "b_in_2 = np.zeros( (4*N+4,) )\n",
    "for i in Iocc:\n",
    "    b_in_2[i] = -Tm2\n",
    "    b_in_2[i+N+1] = TM\n",
    "b_in_2[3*N+3:] = PM\n",
    "\n",
    "b_in[0:4*N+4]=b_in_1\n",
    "b_in[4*N+4:] = b_in_2"
   ]
  },
  {
   "cell_type": "code",
   "execution_count": 19,
   "metadata": {},
   "outputs": [],
   "source": [
    "#Exécution de l'algorithme du simplexe:\n",
    "res = scipy.optimize.linprog(c, A_ub=Ain, b_ub=b_in, A_eq=Aeq, b_eq=beq, bounds=(None, None), method='revised simplex', callback=None, options=None, x0=None)"
   ]
  },
  {
   "cell_type": "code",
   "execution_count": 20,
   "metadata": {},
   "outputs": [
    {
     "name": "stdout",
     "output_type": "stream",
     "text": [
      "Succes:True\n"
     ]
    }
   ],
   "source": [
    "#On vérifie que l'algorithme s'exécute correctement\n",
    "print(f\"Succes:{res.success}\")"
   ]
  },
  {
   "cell_type": "code",
   "execution_count": 21,
   "metadata": {},
   "outputs": [
    {
     "data": {
      "image/png": "[encoded data removed]",
      "text/plain": [
       "<Figure size 360x216 with 4 Axes>"
      ]
     },
     "metadata": {
      "needs_background": "light"
     },
     "output_type": "display_data"
    }
   ],
   "source": [
    "#Affichage des résultats\n",
    "fig, axes = fig, axes = plt.subplots(nrows=2, ncols=2, figsize=(5, 3))\n",
    "T1, T2 = res.x[0:N+1], res.x[2*N+2:3*N+3]\n",
    "P1, P2 = res.x[N+1:2*N+2], res.x[3*N+3:]\n",
    "\n",
    "#Températures\n",
    "\n",
    "#T1\n",
    "axes[0, 0].plot(np.arange(N+1), T1, marker=\"o\")\n",
    "axes[0, 0].set_xlabel(\"Temps(h)\")\n",
    "axes[0, 0].set_ylabel(\"Température T1(°C)\")\n",
    "axes[0, 0].set_title(\"Profil de la température T1\")\n",
    "axes[0, 0].set_xticks(ticks=[0, 12, 22, 32, 42, 48], labels=[\"23h\", \"5h\", \"10h\", \"15h\", \"20h\", \"23h\"])\n",
    "\n",
    "\n",
    "#T2\n",
    "axes[0, 1].plot(np.arange(N+1), T2, marker=\"o\")\n",
    "axes[0, 1].set_xlabel(\"Temps(h)\")\n",
    "axes[0, 1].set_ylabel(\"Température T2(°C)\")\n",
    "axes[0, 1].set_title(\"Profil de la température T2\")\n",
    "axes[0, 1].set_xticks(ticks=[0, 12, 22, 32, 42, 48], labels=[\"23h\", \"5h\", \"10h\", \"15h\", \"20h\", \"23h\"])\n",
    "\n",
    "\n",
    "#Puissances\n",
    "\n",
    "#P1\n",
    "axes[1, 0].plot(np.arange(N+1), P1, marker=\"o\")\n",
    "axes[1, 0].set_xlabel(\"Temps(h)\")\n",
    "axes[1, 0].set_ylabel(\"Puissance P1(W)\")\n",
    "axes[1, 0].set_title(\"Profil de la puissance P1\")\n",
    "axes[1, 0].set_xticks(ticks=[0, 12, 22, 32, 42, 48], labels=[\"23h\", \"5h\", \"10h\", \"15h\", \"20h\", \"23h\"])\n",
    "\n",
    "#P2\n",
    "axes[1, 1].plot(np.arange(N+1), P1, marker=\"o\")\n",
    "axes[1, 1].set_xlabel(\"Temps(h)\")\n",
    "axes[1, 1].set_ylabel(\"Puissance P2(W)\")\n",
    "axes[1, 1].set_title(\"Profil de la puissance P2\")\n",
    "axes[1, 1].set_xticks(ticks=[0, 12, 22, 32, 42, 48], labels=[\"23h\", \"5h\", \"10h\", \"15h\", \"20h\", \"23h\"])\n",
    "\n",
    "plt.subplots_adjust(left=0.1,\n",
    "                    bottom=0.01, \n",
    "                    right=1.4, \n",
    "                    top=1.4, \n",
    "                    wspace=0.4, \n",
    "                    hspace=0.4)\n",
    "plt.show()"
   ]
  },
  {
   "cell_type": "code",
   "execution_count": 22,
   "metadata": {},
   "outputs": [
    {
     "name": "stdout",
     "output_type": "stream",
     "text": [
      "Total de la facture :23876.14 €\n"
     ]
    }
   ],
   "source": [
    "#Résultat de la facture après optimisation\n",
    "print(f\"Total de la facture :{round(res.fun, 2)} €\")"
   ]
  },
  {
   "cell_type": "markdown",
   "metadata": {},
   "source": [
    "### Question 9.a)"
   ]
  },
  {
   "cell_type": "markdown",
   "metadata": {},
   "source": [
    "Réécriture du problème d'optimisation avec la méthode de décomposition-coordination:\n",
    "\n",
    "Comme précédemment, on cherche à minimiser la facture globale mais en rajoutant un terme quadratique, sous contrainte sur la température et la puissance dissipée; formellement en notant:\n",
    "$$x := (T^{1}_0, T^{1}_1, ..., T^{1}_N, P^{1}_0, ..., P^{1}_N, ..., T^{n_l}_0, T^{n_l}_1, ..., T^{n_l}_N, P^{n_l}_0, ..., P^{n_l}_N) \\in \\mathbb{R}^{(2N+2){n_l}}$$\n",
    "\n",
    "$$\\forall 1 \\leq j \\leq n_l; \\; x_j := (T^j_0,...,\\; T^j_N,\\; P^j_0,...,\\; P^j_N)$$\n",
    "\n",
    "$$f(x) := \\sum_{j=1}^{n_l}f_j(x_j) $$\n",
    "\n",
    "avec :\n",
    "\n",
    "$$\\forall 1 \\leq j \\leq n_l; \\; f(x_j) := \\sum_{i=0}^{N}\\Delta t c_i P^{j}_i + \\varepsilon (P^j_i)^2$$\n"
   ]
  },
  {
   "cell_type": "markdown",
   "metadata": {},
   "source": [
    "La fonction coût.\n",
    "\n",
    "Et les fonctions contraintes d'égalités :"
   ]
  },
  {
   "cell_type": "markdown",
   "metadata": {},
   "source": [
    "$$c_{eq}(x) = \\sum^{n_l}_{j=1} c^j_{eq}(x_j)$$\n",
    "\n",
    "Avec\n",
    "\n",
    "$$\\forall 1 \\leq j \\leq n_l; \\;$$\n",
    "$$ c^j_{eq}(x_j) = ((en\\;position\\;0)\\;0,...,(en\\;position\\;(j-1)(N+2))\\;T^{j}_0-T_{in},\\; \\newline \\newline T^{j}_1-e^{-(k+h+\\sum_{k \\ne j}h_{jk})\\Delta t}T^{j}_0 - \\frac{(1-e^{-(k+h+\\sum_{k \\ne 1}h_{jk})\\Delta t})}{k+h+\\sum_{k \\ne j}h_{jk}}(bP^{j}_0+hT_0^e+\\sum_{k \\ne j}h_{jk}T^{k}_{0}),\\;...\\newline \\newline,\\; T^{j}_N-e^{-(k+h+\\sum_{k \\ne j}h_{1k})\\Delta t}T^{j}_{N-1} - \\frac{(1-e^{-(k+h+\\sum_{k \\ne j}h_{jk})\\Delta t})}{k+h+\\sum_{k \\ne j}h_{jk}}(bP^{j}_{N-1}+hT_{N-1}^e+\\sum_{k \\ne j}h_{jk}T^{k}_{N-1}),\\; P^{j}_N,\\; \\newline \\newline (en\\;position\\;j(N+2))\\; 0,\\; 0,\\dots,\\; 0) \\in \\mathbb{R}^{n_l(N+2)}$$"
   ]
  },
  {
   "cell_type": "markdown",
   "metadata": {},
   "source": [
    "#"
   ]
  },
  {
   "cell_type": "markdown",
   "metadata": {},
   "source": [
    "Et les contraintes d'inégalités :"
   ]
  },
  {
   "cell_type": "markdown",
   "metadata": {},
   "source": [
    "$$c_{in}(x) = \\sum^{n_l}_{j=1} c^j_{in}(x_j)$$\n",
    "\n",
    "Avec\n",
    "\n",
    "$$\\forall 1 \\leq j \\leq n_l; \\;$$\n",
    "$$ c^j_{in}(x_j) = ((en\\;position\\;0)\\;0,...,(en\\;position\\;(j-1)(4N+4))\\;T^{j}_m-T^{j}_0,\\;...,\\newline \\newline T^{j}_m-T^{j}_N,\\; T^{j}_0-T^{j}_M,\\;..., T^{j}_N-T^{j}_M,\\; -P^{j}_0, ..., \\;-P^{j}_N,\\; P^{j}_0-P^{j}_M,...,\\; P^{j}_N-P^{j}_M,\\newline \\newline(en\\;position\\;(j)(4N+4))\\; 0,...,\\; 0 ) \\in \\mathbb{R}^{n_l(4N+4)}$$"
   ]
  },
  {
   "cell_type": "markdown",
   "metadata": {},
   "source": [
    "On a fait l'hypothèse que $\\mathcal{I}_{occ}= (0, ..., N)$, dans la suite les composantes des $(c^{j}_{in})_{1 \\leq j \\leq N}$ seront ajustées selon $\\mathcal{I}_{occ}$\n"
   ]
  },
  {
   "cell_type": "markdown",
   "metadata": {},
   "source": [
    "On rassemble ensuite les contraintes égalités et inégalités sous une seule contrainte d'inégalité notée $c(x) := \\sum^{n_l}_{j=1} c_j(x_j)=(c_{eq}(x),\\; -c_{eq}(x),\\;c_{in}(x))$\n",
    "\n",
    "Avec $\\forall 1 \\leq j \\leq n_l$:\n",
    "\n",
    "$$c_j(x_j) = (c^j_{eq}(x_j),\\; -c^j_{eq}(x_j),\\; c^j_{in}(x_j))\\; \\in \\mathbb{R}^{2n_l(N+2) + n_l(4N+4)}$$\n",
    "\n",
    "On cherche à résoudre le problème d'optimisation sous contrainte :\n",
    "\n",
    "$$min_{x \\in \\mathbb{R}^{(2N+2)n_l}} f(x)$$\n",
    "$$c(x) \\leq 0$$"
   ]
  },
  {
   "cell_type": "markdown",
   "metadata": {},
   "source": [
    "### Question 9.b)"
   ]
  },
  {
   "cell_type": "markdown",
   "metadata": {},
   "source": [
    "# A faire"
   ]
  },
  {
   "cell_type": "markdown",
   "metadata": {},
   "source": [
    "### Question 9c)"
   ]
  },
  {
   "cell_type": "code",
   "execution_count": 26,
   "metadata": {},
   "outputs": [],
   "source": [
    "#Données question 9c)\n",
    "eps = 0.01\n",
    "rho = 0.1\n",
    "Niter = 40\n",
    "nl = 2\n",
    "Tinit = [Tm1, Tm2]\n",
    "\n",
    "def f(xj):\n",
    "    '''\n",
    "    Calcul la valeur de la fonction fj(xj) et renvoie sa valeur\n",
    "    Paramètres : xj vecteur\n",
    "\n",
    "    '''\n",
    "    Pj = xj[N+1:]\n",
    "    return np.sum(dt*cost*Pj + eps*(Pj**2))\n",
    "\n",
    "def ceq(xj, j):\n",
    "    '''\n",
    "    Calcul la valeur de la fonction ceqj(xj) et renvoie sa valeur\n",
    "    paramètres : xj vecteur, j entier entre 1 et n\n",
    "    '''\n",
    "    Tj = xj[0:N+1]\n",
    "    Pj = xj[N+1:]\n",
    "    res = np.zeros( nl*(N+2) )\n",
    "\n",
    "    #Première condition\n",
    "    res[(j-1)*(N+2)] = Tj[0] - Tinit[j-1]#j-1 car décalage d'indice\n",
    "\n",
    "    #Conditions intermédiaires\n",
    "    for i in range(1, N):\n",
    "        res[] = Tj[i+1] - gamma*Tj[i] - beta*(b*Pj[i] + h*Te[i] + h*)\n",
    "\n",
    "    #Dernière condition\n",
    "    res[j*(N+2) - 1] = Pj[N+1]\n",
    "    return res\n",
    "\n",
    "def cin(xj, j):\n",
    "    '''\n",
    "    Calcul la valeur de la fonction cinj(xj) et renvoie sa valeur\n",
    "    paramètres : xj vecteur, j entier entre 1 et nl\n",
    "    '''\n",
    "    pass\n",
    "\n",
    "def c(xj, j):\n",
    "    '''\n",
    "    Calcul la contrainte d'inégalité cj(xj) et renvoie sa valeur\n",
    "    Paramètres : xj vecteur, j entier entre 1 et nl\n",
    "    '''\n",
    "    return np.concatenate((ceq(xj), -ceq(xj), cin(xj)))"
   ]
  }
 ],
 "metadata": {
  "interpreter": {
   "hash": "9e4913c8d648209e9607d14ff0f28aef8ef8f9f746fa44e1a2fe4ec6148e5e48"
  },
  "kernelspec": {
   "display_name": "Python 3.9.7 ('base')",
   "language": "python",
   "name": "python3"
  },
  "language_info": {
   "codemirror_mode": {
    "name": "ipython",
    "version": 3
   },
   "file_extension": ".py",
   "mimetype": "text/x-python",
   "name": "python",
   "nbconvert_exporter": "python",
   "pygments_lexer": "ipython3",
   "version": "3.9.7"
  }
 },
 "nbformat": 4,
 "nbformat_minor": 2
}
