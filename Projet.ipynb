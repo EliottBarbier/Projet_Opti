{
 "cells": [
  {
   "cell_type": "markdown",
   "metadata": {},
   "source": [
    "Projet d'optimisation groupe 1 : Maxence Lamarque / Eliott Barbier"
   ]
  },
  {
   "cell_type": "markdown",
   "metadata": {},
   "source": [
    "## 1 Etude du problème d'optimisation"
   ]
  },
  {
   "cell_type": "markdown",
   "metadata": {},
   "source": [
    "### Question 1\n",
    "\n",
    "Normalement la facture d'électrcité sur $[t_0, t_f]$ devrait s'écrire:\n",
    "$$\n",
    "\\int_{t_0}^{t_f}c(t)P(t)dt\n",
    "$$\n",
    "puisque $P(t)dt$ représente l'énergie consommée pendant dt\n",
    "C'est-à-dire une facture de, en approximant l'intégrale par la méthode des rectangles:\n",
    "$$\n",
    "\\boxed{\\sum_{i=0}^{N}\\Delta t c_i P_i}\n",
    "$$"
   ]
  },
  {
   "cell_type": "markdown",
   "metadata": {},
   "source": [
    "### Question 2\n",
    "On part de l'équation discrète pour essayer d'obtenir une équation continue, en approximant $T_{i+1} \\approx T(t_0 + \\Delta t)$, et $\\frac{dT}{dt} \\approx \\frac{T_{i+1} - T_i}{dt}$\n",
    "Et en utilisant la linéarisation de $e^{-(k+h)\\Delta t} - 1 \\approx -(k+h)\\Delta t$\n",
    "On a alors :\n",
    "$$\n",
    "\\boxed{\\frac{dT}{dt}= h(T^e - T) -kT +bP}\n",
    "$$\n",
    "\n",
    "On reconnait un terme de transfert conducto-convectif $ h(T^e - T)$, un terme de puissance interne dissipée $bP$ et enfin un terme de conduction dû au transfert de chaleur de l'extérieur vers l'intérieur $-kT$.\n",
    "Physiquement cette modélisation semble raisonnable, puisqu'elle inclue tous les transferts de chaleur de notre situation.\n",
    "\n"
   ]
  },
  {
   "cell_type": "markdown",
   "metadata": {},
   "source": [
    "### Question 3\n",
    "\n",
    "On cherche à minimiser la facture, sous contrainte sur la température et la puissance dissipée, formellement en notant:\n",
    "\n",
    "$$x = (T_0, T_1, ..., T_N, P_0, ..., P_N) \\in \\mathbb{R}^{2N+2}, \\; f(x) = \\sum_{i=0}^{N}\\Delta t c_i P_i $$\n",
    "\n",
    "\n",
    "$c_{eq}(x)=(T_0-T_{in},\\; T_1-e^{-(k+h)\\Delta t}T_0 - \\frac{(1-e^{-(k+h)\\Delta t})}{k+h}(bP_0+hT_0^e),\\;..., T_N-e^{-(k+h)\\Delta t}T_{N-1} - \\frac{(1-e^{-(k+h)\\Delta t})}{k+h}(bP_{N-1}+hT_{N-1}^e), P_N) \\in \\mathbb{R}^{N+2}$\n",
    "\n",
    "et\n",
    "\n",
    "$$c_{in}(x) = (T_m-T_0,\\;..., T_m-T_N,\\; T_0-T_M,\\;,..., T_N-T_M,\\; -P_0, ..., \\;-P_N,\\; P_0-P_M,...,\\; P_N-P_M) \\in \\mathbb{R}^{4N+4}$$\n",
    "\n",
    "Dans la définition de $c_ {in}$, on a fait l'hypothèse que $\\mathcal{I}_{occ}= (0, ..., N)$, dans la suite les $2N+2$ premières composantes de $c_{in}$ seront ajustées selon $\\mathcal{I}_{occ}$\n",
    "\n",
    "Le problème d'optimisation à résoudre se réécrit :\n",
    "\n",
    "$$min_{x \\in \\mathbb{R}^{2N+2}} f(x)$$\n",
    "$$c_{eq}(x)=0$$\n",
    "$$c_{in}(x) \\leq 0$$\n",
    "\n"
   ]
  },
  {
   "cell_type": "markdown",
   "metadata": {},
   "source": [
    "### Question 4\n",
    "f ainsi définit est linéaire, et les contraintes affines, donc il s'agit d'un problème convexe. Plus spécifiquement, il s'agit d'un problème LP."
   ]
  },
  {
   "cell_type": "markdown",
   "metadata": {},
   "source": [
    "## 2 Etude et résolution numérique du problème individuel"
   ]
  },
  {
   "cell_type": "markdown",
   "metadata": {},
   "source": [
    "### Question 5"
   ]
  },
  {
   "cell_type": "markdown",
   "metadata": {},
   "source": [
    "Etant donné la nature de notre problème d'optimisation d'une fonction différetentiable convexe sous contraintes aussi différentiables convexes, il est possible d'utiliser l'algorithme d'Uzawa, d'Arrow-Hurwitz pour rechercher un point selle du Lagrangien. Ce point selle étant alors solution du problème d'optimisation.\n",
    "\n",
    "Mais étant donné la nature LP du problème, il est préférable d'utiliser l'algorithme du simplexe."
   ]
  },
  {
   "cell_type": "code",
   "execution_count": 55,
   "metadata": {},
   "outputs": [],
   "source": [
    "import scipy.optimize\n",
    "import numpy as np\n",
    "import matplotlib.pyplot as plt"
   ]
  },
  {
   "cell_type": "code",
   "execution_count": 56,
   "metadata": {},
   "outputs": [],
   "source": [
    "#Données question 5\n",
    "c_cr = 1\n",
    "c_pl = 3/2\n",
    "Tm = 18.#(°C)\n",
    "TM = 30.#(°C)\n",
    "Tin = Tm\n",
    "h = 0.05#h-1\n",
    "k = 0.01#h-1\n",
    "b = 1/500#°C/Wh\n",
    "PM = 5000.#W\n",
    "t0 = 23.\n",
    "dt = 0.5\n",
    "N = 48#Pour une durée de 24h\n",
    "gamma = np.exp(-(k+h)*dt)\n",
    "beta = (1-gamma)/(k+h)\n",
    "Iocc = np.concatenate((np.arange(16, 21), np.arange(38, 49)))\n",
    "tab_bool = np.array([1 if i in Iocc else 0 for i in range(N + 1)])\n",
    "\n",
    "\n",
    "t = np.concatenate((np.array([23., 23.5]), dt * np.arange(N - 1)))#array des temps modulo 24\n",
    "Te = 4 + 8 * np.exp(-(t -12)**2/40)# array des températures extérieures\n",
    "cost = np.where(((t >= 0.) & (t <= 6.) | (t>=12.) & (t<=14.)), c_cr, c_pl)#array des coûts horaires\n"
   ]
  },
  {
   "cell_type": "markdown",
   "metadata": {},
   "source": [
    "Où on a  introduit $\\gamma := e^{-(k+h)\\Delta t}\\;$ et $\\;\\beta := (\\frac{1-e^{-(k+h)\\Delta t}}{k+h})$"
   ]
  },
  {
   "cell_type": "markdown",
   "metadata": {},
   "source": [
    "On réécrit le problème d'optimisation sous la forme :\n",
    "$$f(x) = c^Tx, \\; c_{in}(x) = A_{in}x - b_{in},\\; c_{eq}(x) = A_{eq}x - b_{eq}$$\n",
    "\n",
    "Avec \n",
    "$$A_{eq} \\in \\mathbb{R}^{(N+2) \\times (2N+2)}, \\;b_{eq}\\in \\mathbb{R}^{N+2},\\;A_{in} \\in \\mathbb{R}^{(4N+4) \\times (2N+2)}, \\;b_{in}\\in \\mathbb{R}^{4N+4}, \\; c \\in \\mathbb{R}^{2N+2}$$"
   ]
  },
  {
   "cell_type": "markdown",
   "metadata": {},
   "source": [
    "### Question 6"
   ]
  },
  {
   "cell_type": "code",
   "execution_count": 57,
   "metadata": {},
   "outputs": [],
   "source": [
    "#Ecriture des matrices décrivant le problème\n",
    "c = np.zeros( (2*N+2,) ) \n",
    "Aeq = np.zeros((N+2, (2*N+2)))\n",
    "beq = np.zeros( (N+2,) )\n",
    "Ain = np.zeros((4*N+4, (2*N+2)))\n",
    "b_in = np.zeros( (4*N+4,) )    \n",
    "cost = np.where(((t >= 0.) & (t <= 6.) | (t>=12.) & (t<=14.)), c_cr, c_pl)"
   ]
  },
  {
   "cell_type": "code",
   "execution_count": 58,
   "metadata": {},
   "outputs": [],
   "source": [
    "def compute_matrix(c_cr=c_cr, c_pl=c_pl):\n",
    "    '''\n",
    "    Calcul les matrices utilisées dans le problème d'optimisation traité\n",
    "    Paramètres: c_cr coût heure creuse, c_pl coût heure pleine\n",
    "    '''\n",
    "\n",
    "    cost = np.where(((t >= 0.) & (t <= 6.) | (t>=12.) & (t<=14.)), c_cr, c_pl)\n",
    "\n",
    "    #Vecteur ligne c:\n",
    "    c[N+1:] = dt * cost\n",
    "\n",
    "    #Vecteur ligne beq:\n",
    "    beq[0] = Tin # 1 condition\n",
    "    beq[1:N+1] = h*beta*Te[:len(Te)-1] #N condition\n",
    "    #Le b_eq en N+1 correspond à la contrainte P_N = 0\n",
    "\n",
    "    #Matrice Aeq:\n",
    "\n",
    "    #Première ligne\n",
    "    Aeq[0, 0] = 1.\n",
    "\n",
    "    #lignes suivantes j'ai pas d'autres idées que de faire ça, un peu dégeu on peut sans doute faire mieux à partir d'un produit matriciel avec une \n",
    "    #matrice bien choisie\n",
    "\n",
    "    for i in range(1, N+1):\n",
    "        Aeq[i, i-1] = -gamma\n",
    "        Aeq[i, i] = 1\n",
    "        Aeq[i, N + i] = -beta*b\n",
    "\n",
    "    #Vecteur ligne bin:\n",
    "\n",
    "    #Marche pas... bin = np.where(((bin in Iocc) & (bin <= N) | (bin in Iocc) & (bin >= N+1)), -Tm, TM)\n",
    "    for i in Iocc:\n",
    "            b_in[i] = -Tm\n",
    "            b_in[i+N+1] = TM\n",
    "    b_in[3*N+3:] = PM\n",
    "\n",
    "\n",
    "    #Matrice Ain:\n",
    "    for i in Iocc:\n",
    "            Ain[i, i] = -1.\n",
    "            Ain[i+N+1, i] = 1\n",
    "            \n",
    "    Ain[2*N+2:3*N+3, N+1:] = -np.eye(N+1)\n",
    "    Ain[3*N+3:, N+1:] = np.eye(N+1)"
   ]
  },
  {
   "cell_type": "code",
   "execution_count": 59,
   "metadata": {},
   "outputs": [],
   "source": [
    "#Exécution de l'algorithme du simplexe:\n",
    "compute_matrix()\n",
    "res = scipy.optimize.linprog(c, A_ub=Ain, b_ub=b_in, A_eq=Aeq, b_eq=beq, bounds=(None, None), method='revised simplex', callback=None, options=None, x0=None)"
   ]
  },
  {
   "cell_type": "code",
   "execution_count": 60,
   "metadata": {},
   "outputs": [
    {
     "name": "stdout",
     "output_type": "stream",
     "text": [
      "res.success=True\n",
      "res.nit=68\n"
     ]
    }
   ],
   "source": [
    "#Vérification du succès de l'algortihme\n",
    "print(f\"{res.success=}\")\n",
    "print(f\"{res.nit=}\") #Nombre d'itérations\""
   ]
  },
  {
   "cell_type": "code",
   "execution_count": 61,
   "metadata": {},
   "outputs": [
    {
     "data": {
      "image/png": "[encoded data removed]",
      "text/plain": [
       "<Figure size 360x216 with 3 Axes>"
      ]
     },
     "metadata": {
      "needs_background": "light"
     },
     "output_type": "display_data"
    }
   ],
   "source": [
    "\n",
    "#Résultats\n",
    "T = res.x[:N+1]\n",
    "P = res.x[N+1:]\n",
    "\n",
    "#Affichage du résultat:\n",
    "\n",
    "#Température\n",
    "fig, axes = plt.subplots(nrows=1, ncols=3, figsize=(5, 3))\n",
    "axes[0].plot(np.arange(N+1), T, marker=\"o\")\n",
    "axes[0].set_xlabel(\"Temps(h)\")\n",
    "axes[0].set_ylabel(\"Température(°C)\")\n",
    "axes[0].set_title(\"Profil de la température\")\n",
    "axes[0].set_xticks(ticks=[0, 12, 22, 32, 42, 48], labels=[\"23h\", \"5h\", \"10h\", \"15h\", \"20h\", \"23h\"])\n",
    "\n",
    "#Puissance\n",
    "axes[1].plot(np.arange(N+1), P, marker=\"o\")\n",
    "axes[1].set_xlabel(\"Temps(h)\")\n",
    "axes[1].set_ylabel(\"Puissance(W)\")\n",
    "axes[1].set_title(\"Profil de la puissance\")\n",
    "axes[1].set_xticks(ticks=[0, 12, 22, 32, 42, 48], labels=[\"23h\", \"5h\", \"10h\", \"15h\", \"20h\", \"23h\"])\n",
    "\n",
    "#Iocc\n",
    "axes[2].scatter(np.arange(N+1), tab_bool, marker=\"o\")\n",
    "axes[2].set_xlabel(\"Temps(h)\")\n",
    "axes[2].set_title(\"Horaires de présence\")\n",
    "axes[2].set_xticks(ticks=[0, 12, 22, 32, 42, 48], labels=[\"23h\", \"5h\", \"10h\", \"15h\", \"20h\", \"23h\"])\n",
    "\n",
    "plt.subplots_adjust(left=0.1,\n",
    "                    bottom=0.2, \n",
    "                    right=2, \n",
    "                    top=1.4, \n",
    "                    wspace=0.4, \n",
    "                    hspace=0.4)\n",
    "plt.show()"
   ]
  },
  {
   "cell_type": "code",
   "execution_count": 62,
   "metadata": {},
   "outputs": [
    {
     "name": "stdout",
     "output_type": "stream",
     "text": [
      "Total de la facture :8703.96 €\n"
     ]
    }
   ],
   "source": [
    "#Résultat de la facture après optimisation\n",
    "print(f\"Total de la facture :{round(res.fun, 2)} €\")"
   ]
  },
  {
   "cell_type": "markdown",
   "metadata": {},
   "source": [
    "Commentaires :\n",
    "Au vu des graphiques produits, on remarque que l'on ne consomme pas de manière constante, mais plutôt brutale et sur des plages de temps très resserrées et cela pendant les périodes d'heures creuses. L'intérêt est de chauffer un maximum pendant ces périodes pour assurer le confort des résidents sans devoir consommer en heures pleines.\n",
    "\n",
    "Pour ce qui est de la facture, nous avons choisis de lui donner l'unité de l'euro sans que cela n'est vraiment de sens; en effet les données numériques fournies donneraient 1 euro le Wh, (valeur de $c_{pr}$), alors qu'en France le Kwh est de l'ordre de 17 centimes. On chosit donc d'analyser l'analyse par le profil des températures et des puissances plutôt que sur le tarif final."
   ]
  },
  {
   "cell_type": "markdown",
   "metadata": {},
   "source": [
    "### Question 7"
   ]
  },
  {
   "cell_type": "markdown",
   "metadata": {},
   "source": [
    "### Avec $c_{pl} = \\frac{7}{4}$"
   ]
  },
  {
   "cell_type": "code",
   "execution_count": 63,
   "metadata": {},
   "outputs": [],
   "source": [
    "#Exécution de l'algortihme du simplexe, c_pl = 7/4\n",
    "c = np.zeros( (2*N+2,) ) \n",
    "Aeq = np.zeros((N+2, (2*N+2)))\n",
    "beq = np.zeros( (N+2,) )\n",
    "Ain = np.zeros((4*N+4, (2*N+2)))\n",
    "b_in = np.zeros( (4*N+4,) )\n",
    "compute_matrix(c_pl=7/4)\n",
    "res = scipy.optimize.linprog(c, A_ub=Ain, b_ub=b_in, A_eq=Aeq, b_eq=beq, bounds=(None, None), method='revised simplex', callback=None, options=None, x0=None)"
   ]
  },
  {
   "cell_type": "code",
   "execution_count": 64,
   "metadata": {},
   "outputs": [
    {
     "data": {
      "image/png": "[encoded data removed]",
      "text/plain": [
       "<Figure size 360x216 with 3 Axes>"
      ]
     },
     "metadata": {
      "needs_background": "light"
     },
     "output_type": "display_data"
    }
   ],
   "source": [
    "#Avec des tarifs d'heures pleines différents:\n",
    "\n",
    "#Avec c_pl = 7/4\n",
    "\n",
    "c = np.zeros( (2*N+2,) ) \n",
    "Aeq = np.zeros((N+2, (2*N+2)))\n",
    "beq = np.zeros( (N+2,) )\n",
    "Ain = np.zeros((4*N+4, (2*N+2)))\n",
    "b_in = np.zeros( (4*N+4,) )\n",
    "\n",
    "#Résultats\n",
    "T = res.x[:N+1]\n",
    "P = res.x[N+1:]\n",
    "\n",
    "#Affichage du résultat:\n",
    "\n",
    "#Température\n",
    "fig, axes = plt.subplots(nrows=1, ncols=3, figsize=(5, 3))\n",
    "axes[0].plot(np.arange(N+1), T, marker=\"o\")\n",
    "axes[0].set_xlabel(\"Temps(h)\")\n",
    "axes[0].set_ylabel(\"Température(°C)\")\n",
    "axes[0].set_title(\"Profil de la température\")\n",
    "axes[0].set_xticks(ticks=[0, 12, 22, 32, 42, 48], labels=[\"23h\", \"5h\", \"10h\", \"15h\", \"20h\", \"23h\"])\n",
    "\n",
    "#Puissance\n",
    "axes[1].plot(np.arange(N+1), P, marker=\"o\")\n",
    "axes[1].set_xlabel(\"Temps(h)\")\n",
    "axes[1].set_ylabel(\"Puissance(W)\")\n",
    "axes[1].set_title(\"Profil de la puissance\")\n",
    "axes[1].set_xticks(ticks=[0, 12, 22, 32, 42, 48], labels=[\"23h\", \"5h\", \"10h\", \"15h\", \"20h\", \"23h\"])\n",
    "\n",
    "#Iocc\n",
    "axes[2].scatter(np.arange(N+1), tab_bool, marker=\"o\")\n",
    "axes[2].set_xlabel(\"Temps(h)\")\n",
    "axes[2].set_title(\"Horaires de présence\")\n",
    "axes[2].set_xticks(ticks=[0, 12, 22, 32, 42, 48], labels=[\"23h\", \"5h\", \"10h\", \"15h\", \"20h\", \"23h\"])\n",
    "\n",
    "plt.subplots_adjust(left=0.1,\n",
    "                    bottom=0.2, \n",
    "                    right=2, \n",
    "                    top=1.4, \n",
    "                    wspace=0.4, \n",
    "                    hspace=0.4)\n",
    "plt.show()"
   ]
  },
  {
   "cell_type": "code",
   "execution_count": 65,
   "metadata": {},
   "outputs": [
    {
     "name": "stdout",
     "output_type": "stream",
     "text": [
      "Total de la facture :8837.31 €\n"
     ]
    }
   ],
   "source": [
    "#Résultat de la facture après optimisation avec c_pl=7/4\n",
    "print(f\"Total de la facture :{round(res.fun, 2)} €\")"
   ]
  },
  {
   "cell_type": "markdown",
   "metadata": {},
   "source": [
    "### Avec $c_{pl} = 2$"
   ]
  },
  {
   "cell_type": "code",
   "execution_count": 66,
   "metadata": {},
   "outputs": [],
   "source": [
    "#Exécution de l'algortihme du simplexe, c_pl = 2\n",
    "c = np.zeros( (2*N+2,) ) \n",
    "Aeq = np.zeros((N+2, (2*N+2)))\n",
    "beq = np.zeros( (N+2,) )\n",
    "Ain = np.zeros((4*N+4, (2*N+2)))\n",
    "b_in = np.zeros( (4*N+4,) )\n",
    "compute_matrix(c_pl=2)\n",
    "res = scipy.optimize.linprog(c, A_ub=Ain, b_ub=b_in, A_eq=Aeq, b_eq=beq, bounds=(None, None), method='revised simplex', callback=None, options=None, x0=None)"
   ]
  },
  {
   "cell_type": "code",
   "execution_count": 67,
   "metadata": {},
   "outputs": [
    {
     "data": {
      "image/png": "[encoded data removed]",
      "text/plain": [
       "<Figure size 360x216 with 3 Axes>"
      ]
     },
     "metadata": {
      "needs_background": "light"
     },
     "output_type": "display_data"
    }
   ],
   "source": [
    "#Avec des tarifs d'heures pleines différents:\n",
    "\n",
    "#Avec c_pl = 2\n",
    "\n",
    "c = np.zeros( (2*N+2,) ) \n",
    "Aeq = np.zeros((N+2, (2*N+2)))\n",
    "beq = np.zeros( (N+2,) )\n",
    "Ain = np.zeros((4*N+4, (2*N+2)))\n",
    "b_in = np.zeros( (4*N+4,) )\n",
    "\n",
    "#Résultats\n",
    "T = res.x[:N+1]\n",
    "P = res.x[N+1:]\n",
    "\n",
    "#Affichage du résultat:\n",
    "\n",
    "#Température\n",
    "fig, axes = plt.subplots(nrows=1, ncols=3, figsize=(5, 3))\n",
    "axes[0].plot(np.arange(N+1), T, marker=\"o\")\n",
    "axes[0].set_xlabel(\"Temps(h)\")\n",
    "axes[0].set_ylabel(\"Température(°C)\")\n",
    "axes[0].set_title(\"Profil de la température\")\n",
    "axes[0].set_xticks(ticks=[0, 12, 22, 32, 42, 48], labels=[\"23h\", \"5h\", \"10h\", \"15h\", \"20h\", \"23h\"])\n",
    "\n",
    "#Puissance\n",
    "axes[1].plot(np.arange(N+1), P, marker=\"o\")\n",
    "axes[1].set_xlabel(\"Temps(h)\")\n",
    "axes[1].set_ylabel(\"Puissance(W)\")\n",
    "axes[1].set_title(\"Profil de la puissance\")\n",
    "axes[1].set_xticks(ticks=[0, 12, 22, 32, 42, 48], labels=[\"23h\", \"5h\", \"10h\", \"15h\", \"20h\", \"23h\"])\n",
    "\n",
    "#Iocc\n",
    "axes[2].scatter(np.arange(N+1), tab_bool, marker=\"o\")\n",
    "axes[2].set_xlabel(\"Temps(h)\")\n",
    "axes[2].set_title(\"Horaires de présence\")\n",
    "axes[2].set_xticks(ticks=[0, 12, 22, 32, 42, 48], labels=[\"23h\", \"5h\", \"10h\", \"15h\", \"20h\", \"23h\"])\n",
    "\n",
    "plt.subplots_adjust(left=0.1,\n",
    "                    bottom=0.2, \n",
    "                    right=2, \n",
    "                    top=1.4, \n",
    "                    wspace=0.4, \n",
    "                    hspace=0.4)\n",
    "plt.show()"
   ]
  },
  {
   "cell_type": "code",
   "execution_count": 68,
   "metadata": {},
   "outputs": [
    {
     "name": "stdout",
     "output_type": "stream",
     "text": [
      "Total de la facture :8841.21 €\n"
     ]
    }
   ],
   "source": [
    "#Résultat de la facture après optimisation avec c_pl=2\n",
    "print(f\"Total de la facture :{round(res.fun, 2)} €\")"
   ]
  },
  {
   "cell_type": "markdown",
   "metadata": {},
   "source": [
    "Commentaires:\n",
    "Sur les heures creuses, la température augmente plus lorsque $c_{pl}$ augmente, pour compenser la hausse des prix.\n",
    "La consommation d'énergie autour de 22h diminue puis disparaît totalement lorsque $c_{pl}$ augmente et atteint 2. On ne consomme désormais que pendant les heures creuses, de sorte que la solution reste inchangée si l'on augmente $c_{pl}$ au delà de 2."
   ]
  },
  {
   "cell_type": "markdown",
   "metadata": {},
   "source": [
    "## Partie 3"
   ]
  },
  {
   "cell_type": "markdown",
   "metadata": {},
   "source": [
    "### Question 8.a)"
   ]
  },
  {
   "cell_type": "markdown",
   "metadata": {},
   "source": [
    "On cherche à minimiser la facture globale, sous contrainte sur la température et la puissance dissipée; formellement en notant:\n",
    "$$x = (T^{1}_0, T^{1}_1, ..., T^{1}_N, P^{1}_0, ..., P^{1}_N, ..., T^{n_l}_0, T^{n_l}_1, ..., T^{n_l}_N, P^{n_l}_0, ..., P^{n_l}_N) \\in \\mathbb{R}^{(2N+2){n_l}}$$\n",
    "\n",
    "\n",
    "$$f(x) = \\sum_{j=1}^{n_l}\\sum_{i=0}^{N}\\Delta t c_i P^{j}_i $$\n"
   ]
  },
  {
   "cell_type": "markdown",
   "metadata": {},
   "source": [
    "\n",
    "$$c_{eq}(x)=(T^{1}_0-T_{in},\\; T^{1}_1-e^{-(k+h+\\sum_{k \\ne 1}h_{1k})\\Delta t}T^{1}_0 - \\frac{(1-e^{-(k+h+\\sum_{k \\ne 1}h_{1k})\\Delta t})}{k+h+\\sum_{k \\ne 1}h_{1k}}(bP^{1}_0+hT_0^e+\\sum_{k \\ne 1}h_{1k}T^{k}_{0}),\\;...\\newline \\newline,\\; T^{1}_N-e^{-(k+h+\\sum_{k \\ne 1}h_{1k})\\Delta t}T^{1}_{N-1} - \\frac{(1-e^{-(k+h+\\sum_{k \\ne 1}h_{1k})\\Delta t})}{k+h+\\sum_{k \\ne 1}h_{1k}}(bP^{1}_{N-1}+hT_{N-1}^e+\\sum_{k \\ne 1}h_{1k}T^{k}_{N-1}),\\; P^{1}_N,... \\newline \\newline,\\; T^{n_l}_0-T_{in},\\; T^{n_l}_1-e^{-(k+h+\\sum_{k \\ne n_l}h_{n_{l}k})\\Delta t}T^{n_l}_0 - \\frac{(1-e^{-(k+h+\\sum_{k \\ne n_l}h_{n_{l}k})\\Delta t})}{k+h+\\sum_{k \\ne n_l}h_{n_{l}k}}(bP^{n_l}_0+hT_0^e+\\sum_{k \\ne n_l}h_{n_{l}k}T^{k}_{0}),\\;...\\newline \\newline,\\; T^{n_l}_N-e^{-(k+h+\\sum_{k \\ne n_l}h_{n_{l}k})\\Delta t}T^{n_l}_{N-1} - \\frac{(1-e^{-(k+h+\\sum_{k \\ne n_l}h_{n_{l}k})\\Delta t})}{k+h+\\sum_{k \\ne n_l}h_{n_{l}k}}(bP^{n_l}_{N-1}+hT_{N-1}^e+\\sum_{k \\ne n_l}h_{n_{l}k}T^{k}_{N-1}),\\; P^{n_l}_N) \\in \\mathbb{R}^{(N+2)n_l}$$"
   ]
  },
  {
   "cell_type": "markdown",
   "metadata": {},
   "source": [
    "#"
   ]
  },
  {
   "cell_type": "markdown",
   "metadata": {},
   "source": [
    "$$c_{in}(x) = (T^{1}_m-T^{1}_0,\\;..., T^{1}_m-T^{1}_N,\\; T^{1}_0-T^{1}_M,\\;..., T^{1}_N-T^{1}_M,\\; -P^{1}_0, ..., \\;-P^{1}_N,\\; P^{1}_0-P^{1}_M,...,\\; P^{1}_N-P^{1}_M,... \\newline \\newline, T^{n_l}_m-T^{n_l}_0,\\;..., T^{n_l}_m-T^{n_l}_N,\\; T^{1}_0-T^{1}_M,\\;,..., T^{n_l}_N-T^{n_l}_M,\\; -P^{n_l}_0, ..., \\;-P^{n_l}_N,\\; P^{n_l}_0-P^{n_l}_M,...,\\; P^{n_l}_N-P^{n_l}_M) \\in \\mathbb{R}^{(4N+4)n_l}$$\n",
    "\n",
    "Dans la définition de $c_ {in}$, on a fait l'hypothèse que $\\mathcal{I}_{occ}= (0, ..., N)$, dans la suite les composantes de $c_{in}$ seront ajustées selon $\\mathcal{I}_{occ}$\n",
    "\n",
    "\n",
    "Le problème d'optimisation à résoudre se réécrit :\n",
    "\n",
    "$$min_{x \\in \\mathbb{R}^{(2N+2)n_l}} f(x)$$\n",
    "$$c_{eq}(x)=0$$\n",
    "$$c_{in}(x) \\leq 0$$"
   ]
  },
  {
   "cell_type": "markdown",
   "metadata": {},
   "source": [
    "On réécrit le problème d'optimisation sous la forme matricielle suivante:\n",
    "$$f(x) = c^Tx, \\; c_{in}(x) = A_{in}x - b_{in},\\; c_{eq}(x) = A_{eq}x - b_{eq}$$\n",
    "\n",
    "Avec \n",
    "$$A_{eq} \\in \\mathbb{R}^{(N+2)n_l \\times (2N+2)n_l}, \\;b_{eq}\\in \\mathbb{R}^{(N+2)n_l},\\;A_{in} \\in \\mathbb{R}^{(4N+4)n_l \\times (2N+2)n_l}, \\;b_{in}\\in \\mathbb{R}^{(4N+4)n_l}, \\; c \\in \\mathbb{R}^{(2N+2)n_l}$$"
   ]
  },
  {
   "cell_type": "markdown",
   "metadata": {},
   "source": [
    "### Question 8.b)"
   ]
  },
  {
   "cell_type": "markdown",
   "metadata": {},
   "source": [
    "f ainsi définit est linéaire, et les contraintes affines, donc il s'agit d'un problème convexe. Plus spécifiquement, il s'agit d'un problème LP.\n",
    "Les propriétés du problème restent inchangées, on peut donc tout à fait réutiliser les mêmes méthodes de résolution.\n",
    "\n",
    "D'un point de vue pratique cette méthode de pilotage à l'avantage de pouvoir régler les puissances et températures de tous les logements, permettant alors de minimiser la facture totale. Néanmoins pour une propriété donnée, cette méthode est moins avantageuse puisque si les résidents ont des heures de présence différentes, elle inciterait à chauffer le domicile d'une personne absente pour satisfaire les contraintes de température d'un autre domicile avec les résidents présents."
   ]
  },
  {
   "cell_type": "markdown",
   "metadata": {},
   "source": [
    "### Question 8.c)"
   ]
  },
  {
   "cell_type": "code",
   "execution_count": 69,
   "metadata": {},
   "outputs": [],
   "source": [
    "#On remet à jour l'array cost avec les bonnes valeurs\n",
    "c_cr = 1\n",
    "c_pl = 3/2\n",
    "cost = np.where(((t >= 0.) & (t <= 6.) | (t>=12.) & (t<=14.)), c_cr, c_pl)"
   ]
  },
  {
   "cell_type": "code",
   "execution_count": 70,
   "metadata": {},
   "outputs": [],
   "source": [
    "#Constantes introduites pour simplifier l'écriture\n",
    "gamma = np.exp(-(k+h+h)*dt) #Car h12=h21=h et on a que 2 maisons\n",
    "beta = (1 - gamma)/(k+h+h)\n",
    "Tm1 = 18\n",
    "Tm2 = 20\n",
    "\n",
    "#Ecriture des matrices décrivant le problème\n",
    "Aeq = np.zeros( (2*(N+2), 2*(2*N+2) ) )\n",
    "c = np.zeros( (2*(2*N+2),) )\n",
    "beq = np.zeros( (2*(N+2),) )\n",
    "Ain = np.zeros( (2*(4*N+4), 2*(2*N+2)) )\n",
    "b_in = np.zeros( (2*(4*N+4),) )"
   ]
  },
  {
   "cell_type": "code",
   "execution_count": 71,
   "metadata": {},
   "outputs": [],
   "source": [
    "#Mise en place du problème\n",
    "c[N+1:2*N+2] = dt * cost\n",
    "c[3*N+3:] = dt * cost\n",
    "\n",
    "beq_1 = np.zeros( (N+2,) )\n",
    "beq_1[0] = Tm1 # 1 condition\n",
    "beq_1[1:N+1] = h*beta*Te[:len(Te)-1] #N conditions\n",
    "\n",
    "beq_2 = np.zeros( (N+2,) )\n",
    "beq_2[0] = Tm2 # 1 condition\n",
    "beq_1[1:N+1] = h*beta*Te[:len(Te)-1] #N conditions\n",
    "\n",
    "beq[:N+2] = beq_1\n",
    "beq[N+2:] = beq_2\n",
    "\n",
    "#On décompose la matrice Aeq en 4 blocs, et on peut réutiliser les constructions précédentents pour Aeq_1 et Aeq_2\n",
    "Aeq_1 = np.zeros( (N+2, 2*N+2) )\n",
    "Aeq_2 = np.zeros( (N+2, 2*N+2) )\n",
    "Aeq_3 = np.zeros( (N+2, 2*N+2) )\n",
    "Aeq_4 = np.zeros( (N+2, 2*N+2) )\n",
    "\n",
    "Aeq_1[0, 0] = 1.\n",
    "for i in range(1, N+1):\n",
    "    Aeq_1[i, i-1] = -gamma\n",
    "    Aeq_1[i, i] = 1\n",
    "    Aeq_1[i, N + i] = -beta*b\n",
    "    Aeq_2[i,i-1] = -beta*h\n",
    "\n",
    "\n",
    "Aeq_3[0, 0] = 1.\n",
    "for i in range(1, N+1):\n",
    "    Aeq_3[i, i-1] = -gamma\n",
    "    Aeq_3[i, i] = 1\n",
    "    Aeq_3[i, N + i] = -beta*b\n",
    "    Aeq_4[i,i-1] = -beta*h\n",
    "\n",
    "Aeq[0:N+2, 0:2*N+2] = Aeq_1\n",
    "Aeq[0:N+2, 2*N+2:] = Aeq_2\n",
    "Aeq[N+2:, 0:2*N+2] = Aeq_4\n",
    "Aeq[N+2:, 2*N+2:] = Aeq_3\n",
    "#On recrée Ain, par bloc aussi, c'est plus facile car elle est diagonale par blocs avec comme bloque la Ain précédente : (cas où Iocc est le même pour les 2 maisons, sinon\n",
    "#les 2 matrices dans la diagonale ne sont pas les mêmes.)\n",
    "\n",
    "Ain_1 = np.zeros( (4*N+4, 2*N+2) )\n",
    "for i in Iocc:\n",
    "    Ain_1[i, i] = -1.\n",
    "    Ain_1[i+N+1, i] = 1\n",
    "Ain_1[2*N+2:3*N+3, N+1:] = -np.eye(N+1)\n",
    "Ain_1[3*N+3:, N+1:] = np.eye(N+1)\n",
    "\n",
    "Ain[0:4*N+4,0:2*N+2] = Ain_1\n",
    "Ain[4*N+4:,2*N+2:] = Ain_1\n",
    "\n",
    "b_in_1 = np.zeros( (4*N+4,) )\n",
    "for i in Iocc:\n",
    "    b_in_1[i] = -Tm1\n",
    "    b_in_1[i+N+1] = TM\n",
    "b_in_1[3*N+3:] = PM\n",
    "\n",
    "b_in_2 = np.zeros( (4*N+4,) )\n",
    "for i in Iocc:\n",
    "    b_in_2[i] = -Tm2\n",
    "    b_in_2[i+N+1] = TM\n",
    "b_in_2[3*N+3:] = PM\n",
    "\n",
    "b_in[0:4*N+4]=b_in_1\n",
    "b_in[4*N+4:] = b_in_2"
   ]
  },
  {
   "cell_type": "code",
   "execution_count": 72,
   "metadata": {},
   "outputs": [],
   "source": [
    "#Exécution de l'algorithme du simplexe:\n",
    "res = scipy.optimize.linprog(c, A_ub=Ain, b_ub=b_in, A_eq=Aeq, b_eq=beq, bounds=(None, None), method='revised simplex', callback=None, options=None, x0=None)"
   ]
  },
  {
   "cell_type": "code",
   "execution_count": 73,
   "metadata": {},
   "outputs": [
    {
     "name": "stdout",
     "output_type": "stream",
     "text": [
      "Succes:True\n"
     ]
    }
   ],
   "source": [
    "#On vérifie que l'algorithme s'exécute correctement\n",
    "print(f\"Succes:{res.success}\")"
   ]
  },
  {
   "cell_type": "code",
   "execution_count": 74,
   "metadata": {},
   "outputs": [
    {
     "data": {
      "image/png": "[encoded data removed]",
      "text/plain": [
       "<Figure size 360x216 with 4 Axes>"
      ]
     },
     "metadata": {
      "needs_background": "light"
     },
     "output_type": "display_data"
    }
   ],
   "source": [
    "#Affichage des résultats\n",
    "fig, axes = fig, axes = plt.subplots(nrows=2, ncols=2, figsize=(5, 3))\n",
    "T1, T2 = res.x[0:N+1], res.x[2*N+2:3*N+3]\n",
    "P1, P2 = res.x[N+1:2*N+2], res.x[3*N+3:]\n",
    "\n",
    "#Températures\n",
    "\n",
    "#T1\n",
    "axes[0, 0].plot(np.arange(N+1), T1, marker=\"o\")\n",
    "axes[0, 0].set_xlabel(\"Temps(h)\")\n",
    "axes[0, 0].set_ylabel(\"Température T1(°C)\")\n",
    "axes[0, 0].set_title(\"Profil de la température T1\")\n",
    "axes[0, 0].set_xticks(ticks=[0, 12, 22, 32, 42, 48], labels=[\"23h\", \"5h\", \"10h\", \"15h\", \"20h\", \"23h\"])\n",
    "\n",
    "\n",
    "#T2\n",
    "axes[0, 1].plot(np.arange(N+1), T2, marker=\"o\")\n",
    "axes[0, 1].set_xlabel(\"Temps(h)\")\n",
    "axes[0, 1].set_ylabel(\"Température T2(°C)\")\n",
    "axes[0, 1].set_title(\"Profil de la température T2\")\n",
    "axes[0, 1].set_xticks(ticks=[0, 12, 22, 32, 42, 48], labels=[\"23h\", \"5h\", \"10h\", \"15h\", \"20h\", \"23h\"])\n",
    "\n",
    "\n",
    "#Puissances\n",
    "\n",
    "#P1\n",
    "axes[1, 0].plot(np.arange(N+1), P1, marker=\"o\")\n",
    "axes[1, 0].set_xlabel(\"Temps(h)\")\n",
    "axes[1, 0].set_ylabel(\"Puissance P1(W)\")\n",
    "axes[1, 0].set_title(\"Profil de la puissance P1\")\n",
    "axes[1, 0].set_xticks(ticks=[0, 12, 22, 32, 42, 48], labels=[\"23h\", \"5h\", \"10h\", \"15h\", \"20h\", \"23h\"])\n",
    "\n",
    "#P2\n",
    "axes[1, 1].plot(np.arange(N+1), P1, marker=\"o\")\n",
    "axes[1, 1].set_xlabel(\"Temps(h)\")\n",
    "axes[1, 1].set_ylabel(\"Puissance P2(W)\")\n",
    "axes[1, 1].set_title(\"Profil de la puissance P2\")\n",
    "axes[1, 1].set_xticks(ticks=[0, 12, 22, 32, 42, 48], labels=[\"23h\", \"5h\", \"10h\", \"15h\", \"20h\", \"23h\"])\n",
    "\n",
    "plt.subplots_adjust(left=0.1,\n",
    "                    bottom=0.01, \n",
    "                    right=1.4, \n",
    "                    top=1.4, \n",
    "                    wspace=0.4, \n",
    "                    hspace=0.4)\n",
    "plt.show()"
   ]
  },
  {
   "cell_type": "code",
   "execution_count": 75,
   "metadata": {},
   "outputs": [
    {
     "name": "stdout",
     "output_type": "stream",
     "text": [
      "Total de la facture :23876.14 €\n"
     ]
    }
   ],
   "source": [
    "#Résultat de la facture après optimisation\n",
    "print(f\"Total de la facture :{round(res.fun, 2)} €\")"
   ]
  },
  {
   "cell_type": "markdown",
   "metadata": {},
   "source": [
    "### Question 9.a)"
   ]
  },
  {
   "cell_type": "markdown",
   "metadata": {},
   "source": [
    "Réécriture du problème d'optimisation avec la méthode de décomposition-coordination:\n",
    "\n",
    "Comme précédemment, on cherche à minimiser la facture globale mais en rajoutant un terme quadratique, sous contrainte sur la température et la puissance dissipée; formellement en notant:\n",
    "$$x := (T^{1}_0, T^{1}_1, ..., T^{1}_N, P^{1}_0, ..., P^{1}_N, ..., T^{n_l}_0, T^{n_l}_1, ..., T^{n_l}_N, P^{n_l}_0, ..., P^{n_l}_N) \\in \\mathbb{R}^{(2N+2){n_l}}$$\n",
    "\n",
    "$$\\forall 1 \\leq j \\leq n_l; \\; x_j := (T^j_0,...,\\; T^j_N,\\; P^j_0,...,\\; P^j_N)$$\n",
    "\n",
    "$$f(x) := \\sum_{j=1}^{n_l}f_j(x_j) $$\n",
    "\n",
    "avec :\n",
    "\n",
    "$$\\forall 1 \\leq j \\leq n_l; \\; f(x_j) := \\sum_{i=0}^{N}\\Delta t c_i P^{j}_i + \\varepsilon (P^j_i)^2$$\n"
   ]
  },
  {
   "cell_type": "markdown",
   "metadata": {},
   "source": [
    "La fonction coût.\n",
    "\n",
    "Et les fonctions contraintes d'égalités :"
   ]
  },
  {
   "cell_type": "markdown",
   "metadata": {},
   "source": [
    "$$c_{eq}(x) = \\sum^{n_l}_{j=1} c^j_{eq}(x_j)$$\n",
    "\n",
    "Avec\n",
    "\n",
    "$$\\forall 1 \\leq j \\leq n_l; \\;$$\n",
    "$$ c^j_{eq}(x_j) = ((en\\;position\\;0)\\;0,...,(en\\;position\\;(j-1)(N+2))\\;T^{j}_0-T_{in},\\; \\newline \\newline T^{j}_1-e^{-(k+h+\\sum_{k \\ne j}h_{jk})\\Delta t}T^{j}_0 - \\frac{(1-e^{-(k+h+\\sum_{k \\ne 1}h_{jk})\\Delta t})}{k+h+\\sum_{k \\ne j}h_{jk}}(bP^{j}_0+hT_0^e+\\sum_{k \\ne j}h_{jk}T^{k}_{0}),\\;...\\newline \\newline,\\; T^{j}_N-e^{-(k+h+\\sum_{k \\ne j}h_{1k})\\Delta t}T^{j}_{N-1} - \\frac{(1-e^{-(k+h+\\sum_{k \\ne j}h_{jk})\\Delta t})}{k+h+\\sum_{k \\ne j}h_{jk}}(bP^{j}_{N-1}+hT_{N-1}^e+\\sum_{k \\ne j}h_{jk}T^{k}_{N-1}),\\; P^{j}_N,\\; \\newline \\newline (en\\;position\\;j(N+2))\\; 0,\\; 0,\\dots,\\; 0) \\in \\mathbb{R}^{n_l(N+2)}$$"
   ]
  },
  {
   "cell_type": "markdown",
   "metadata": {},
   "source": [
    "Où l'on a supposé connu  $w_i\\; \\forall 0 \\leq i \\leq N$"
   ]
  },
  {
   "cell_type": "markdown",
   "metadata": {},
   "source": [
    "#"
   ]
  },
  {
   "cell_type": "markdown",
   "metadata": {},
   "source": [
    "Et les contraintes d'inégalités :"
   ]
  },
  {
   "cell_type": "markdown",
   "metadata": {},
   "source": [
    "$$c_{in}(x) = \\sum^{n_l}_{j=1} c^j_{in}(x_j)$$\n",
    "\n",
    "Avec\n",
    "\n",
    "$$\\forall 1 \\leq j \\leq n_l; \\;$$\n",
    "$$ c^j_{in}(x_j) = ((en\\;position\\;0)\\;0,...,(en\\;position\\;(j-1)(4N+4))\\;T^{j}_m-T^{j}_0,\\;...,\\newline \\newline T^{j}_m-T^{j}_N,\\; T^{j}_0-T^{j}_M,\\;..., T^{j}_N-T^{j}_M,\\; -P^{j}_0, ..., \\;-P^{j}_N,\\; P^{j}_0-P^{j}_M,...,\\; P^{j}_N-P^{j}_M,\\newline \\newline(en\\;position\\;(j)(4N+4))\\; 0,...,\\; 0 ) \\in \\mathbb{R}^{n_l(4N+4)}$$"
   ]
  },
  {
   "cell_type": "markdown",
   "metadata": {},
   "source": [
    "On a fait l'hypothèse que $\\mathcal{I}_{occ}= (0, ..., N)$, dans la suite les composantes des $(c^{j}_{in})_{1 \\leq j \\leq N}$ seront ajustées selon $\\mathcal{I}_{occ}$\n"
   ]
  },
  {
   "cell_type": "markdown",
   "metadata": {},
   "source": [
    "On rassemble ensuite les contraintes égalités et inégalités sous une seule contrainte d'inégalité notée $c(x) := \\sum^{n_l}_{j=1} c_j(x_j)=(c_{eq}(x),\\; -c_{eq}(x),\\;c_{in}(x))$\n",
    "\n",
    "Avec $\\forall 1 \\leq j \\leq n_l$:\n",
    "\n",
    "$$c_j(x_j) = (c^j_{eq}(x_j),\\; -c^j_{eq}(x_j),\\; c^j_{in}(x_j))\\; \\in \\mathbb{R}^{2n_l(N+2) + n_l(4N+4)}$$\n",
    "\n",
    "On cherche à résoudre le problème d'optimisation sous contrainte :\n",
    "\n",
    "$$min_{x \\in \\mathbb{R}^{(2N+2)n_l}} f(x)$$\n",
    "$$c(x) \\leq 0$$"
   ]
  },
  {
   "cell_type": "markdown",
   "metadata": {},
   "source": [
    "### Question 9.b)"
   ]
  },
  {
   "cell_type": "markdown",
   "metadata": {},
   "source": [
    "Contrairement à la résolution précédente, l'étape intermédiaire permet de minimiser le coût individuel de chaque logement, tout en ayant comme objectif de minimiser la facture globale. Aussi au lieu de résoudre un problème d'optimisation sous contrainte dans $\\mathbb{R}^{(2N+2)n_l}$, on se retrouve à devoir résoudre $n_l$ problème d'optimisation sans contrainte dans $\\mathbb{R}^{2N+2}$. Néanmoins cette méthode est problématique dans la mesure où elle n'est pas exactement celle rencontrée dans notre cas; en effet les $c_j$ dépendent en réalité à la fois de $x_j$ mais aussi de $x_k$ pour $k \\ne j$."
   ]
  },
  {
   "cell_type": "markdown",
   "metadata": {},
   "source": [
    "### Question 9c)"
   ]
  },
  {
   "cell_type": "code",
   "execution_count": 76,
   "metadata": {},
   "outputs": [],
   "source": [
    "#Données question 9c)\n",
    "#On suppose que les wi sont connus, au moment de l'algortithme.\n",
    "x1_0 = res.x[0:2*N+2]\n",
    "x2_0 =res.x[2*N+2:]\n",
    "\n",
    "eps = 0.01\n",
    "rho = 0.1\n",
    "Niter = 40\n",
    "nl = 2\n",
    "Tinit = [Tm1, Tm2]\n",
    "\n",
    "def f(xj):\n",
    "    '''\n",
    "    Calcul la valeur de la fonction fj(xj) et renvoie sa valeur\n",
    "    Paramètres : xj vecteur\n",
    "\n",
    "    '''\n",
    "    Pj = xj[N+1:]\n",
    "    return np.sum(dt*cost*Pj + eps*(Pj**2))\n",
    "\n",
    "def ceq(j, xk):\n",
    "    '''\n",
    "    Crée et renvoie la fonction ceqj\n",
    "    '''\n",
    "\n",
    "    def ceqj(xj):\n",
    "        '''\n",
    "        Calcul la valeur de la fonction ceqj(xj) et renvoie sa valeur\n",
    "        paramètres : xj vecteur associé à Pj et Tj, j entier entre 1 et n, \n",
    "        xk vecteur assiocié à Pk et Tk avec k différent de j\n",
    "        '''\n",
    "        Tk = xk[0:N+1]\n",
    "        Tj = xj[0:N+1]\n",
    "        Pj = xj[N+1:]\n",
    "        res = np.zeros( nl*(N+2) )\n",
    "\n",
    "        #Première condition\n",
    "        res[(j-1)*(N+2)] = Tj[0] - Tinit[j-1]#j-1 car décalage d'indice\n",
    "\n",
    "        #Conditions intermédiaires\n",
    "        for i in range(1, N):\n",
    "            res[(j-1)*(N+2)+i] = Tj[i+1] - gamma*Tj[i] - beta*(b*Pj[i] + h*Te[i] + h*Tk[i])\n",
    "\n",
    "        #Dernière condition\n",
    "        res[j*(N+2) - 1] = Pj[N+1]\n",
    "        return res\n",
    "\n",
    "    return ceqj\n",
    "\n",
    "def cin(j):\n",
    "    '''\n",
    "    Crée et renvoie la fonction cinj\n",
    "    '''\n",
    "    def cinj(xj):\n",
    "        '''\n",
    "        Calcul la valeur de la fonction cinj(xj) et renvoie sa valeur\n",
    "        paramètres : xj vecteur, j entier entre 1 et nl\n",
    "        '''\n",
    "        Tj = xj[0:N+1]\n",
    "        Pj = xj[N+1:]\n",
    "        res = np.zeros( nl*(N+2) )\n",
    "\n",
    "        for i in range(N+1):\n",
    "            res[(j-1)*(4*N+4) + i] = Tinit[j] - Tj[i]\n",
    "            res[(j-1)*(4*N+4) + N + 1 + i] = Tj[i] - TM\n",
    "            res[(j-1)*(4*N+4) + 2*N + 2 + i] = -Pj[i]\n",
    "            res[(j-1)*(4*N+4) + 3*N + 3 + i] = Pj[i] - PM\n",
    "\n",
    "        return res\n",
    "\n",
    "    return cinj\n",
    "\n",
    "def c(j, xk):\n",
    "    '''\n",
    "    Crée et renvoie la fonction cj\n",
    "    '''\n",
    "    ceq_j = ceq(j, xk)\n",
    "    cin_j = cin(j)\n",
    "\n",
    "    def cj(xj):\n",
    "        '''\n",
    "        Calcul la contrainte d'inégalité cj(xj) et renvoie sa valeur\n",
    "        Paramètres : xj vecteur, j entier entre 1 et nl\n",
    "        '''\n",
    "        return np.concatenate((ceq_j(xj), -ceq_j(xj), cin_j(xj)))\n",
    "\n",
    "    return cj"
   ]
  },
  {
   "cell_type": "markdown",
   "metadata": {},
   "source": [
    "Puisque les $c_j(x_j)$ dépendent des $(w_i)$, il est nécessaire d'initialiser les valeurs des $(w_i)$ avant d'exécuter l'algorithme.\n",
    "On fait le choix, discutable, de prendre ces valeurs égales à celles obtenues précédemment."
   ]
  },
  {
   "cell_type": "code",
   "execution_count": 77,
   "metadata": {},
   "outputs": [],
   "source": [
    "#On utilisera Casadi pour la résolution des problèmes d'optimisation intermédiaires\n",
    "import casadi"
   ]
  },
  {
   "cell_type": "markdown",
   "metadata": {},
   "source": [
    "# Ne marche pas"
   ]
  },
  {
   "cell_type": "code",
   "execution_count": 78,
   "metadata": {},
   "outputs": [],
   "source": [
    "def Uzawa_2(eps=eps, Niter=Niter, x1_0=x1_0, x2_0=x2_0, rho=rho):\n",
    "    x1 = x1_0\n",
    "    x2 = x2_0\n",
    "    lamb = np.ones(nl*2*(N+2) + nl*(4*N+4))\n",
    "    k = 0\n",
    "\n",
    "    #Première itération\n",
    "    #Premier problème de minimisation\n",
    "    c1 = c(1, x2)\n",
    "    opti = casadi.Opti()\n",
    "    x1 = opti.variable(2*N+2)\n",
    "    g =  np.sum(dt*cost*x1[N+1:] + eps*(x1[N+1:]**2))+ np.dot(lamb, c1(x1))\n",
    "    opti.minimize(g)\n",
    "    x0 = np.concatenate((Tm1*np.ones((N+1))), np.zeros(N+1))\n",
    "    opti.set_initial(x1, x0)\n",
    "    opti.solver('ipopt')\n",
    "    sol = opti.solve()\n",
    "    x1 = sol.value(x1)\n",
    "\n",
    "    #Deuxième problème de minimisation\n",
    "    c2 = c(1, x1)\n",
    "    opti = casadi.Opti()\n",
    "    x2 = opti.variable(2*N+2)\n",
    "    g =  np.sum(dt*cost*x2[N+1:] + eps*(x2[N+1:]**2))+ np.dot(lamb, c2(x2))\n",
    "    opti.minimize(g)\n",
    "    x0 = np.concatenate((Tm2*np.ones((N+1))), np.zeros(N+1))\n",
    "    opti.set_initial(x2, x0)\n",
    "    opti.solver('ipopt')\n",
    "    sol = opti.solve()\n",
    "    x2 = sol.value(x2)\n",
    "    new_lamb = lamb + rho*(c1(x1) + c2(x2))\n",
    "    new_lamb = np.where((new_lamb <= 0), 0, new_lamb)\n",
    "    k += 1\n",
    "\n",
    "    while k + 1 <= Niter and np.linalg.norm(new_lamb - lamb) > 10e-2:\n",
    "        lamb = new_lamb\n",
    "\n",
    "        #Premier problème de minimisation\n",
    "        c1 = c(1, x2)\n",
    "        opti = casadi.Opti()\n",
    "        x1 = opti.variable(2*N+2)\n",
    "        g =  np.sum(dt*cost*x1[N+1:] + eps*(x1[N+1:]**2))+ np.dot(lamb, c1(x1))\n",
    "        opti.minimize(g)\n",
    "        x0 = np.concatenate((Tm1*np.ones((N+1))), np.zeros(N+1))\n",
    "        opti.set_initial(x1, x0)\n",
    "        opti.solver('ipopt')\n",
    "        sol = opti.solve()\n",
    "        x1 = sol.value(x1)\n",
    "\n",
    "        #Deuxième problème de minimisation\n",
    "        c2 = c(1, x1)\n",
    "        opti = casadi.Opti()\n",
    "        x2 = opti.variable(2*N+2)\n",
    "        g =  np.sum(dt*cost*x2[N+1:] + eps*(x2[N+1:]**2))+ np.dot(lamb, c2(x2))\n",
    "        opti.minimize(g)\n",
    "        x0 = np.concatenate((Tm2*np.ones((N+1))), np.zeros(N+1))\n",
    "        opti.set_initial(x2, x0)\n",
    "        opti.solver('ipopt')\n",
    "        sol = opti.solve()\n",
    "        x2 = sol.value(x2)\n",
    "        new_lamb = lamb + rho*(c1(x1) + c2(x2))\n",
    "        new_lamb = np.where((new_lamb <= 0), 0, new_lamb)\n",
    "        k += 1\n",
    "\n",
    "    return x1, x2, k"
   ]
  },
  {
   "cell_type": "code",
   "execution_count": 54,
   "metadata": {},
   "outputs": [
    {
     "name": "stderr",
     "output_type": "stream",
     "text": [
      "c:\\Users\\lamar\\miniconda\\lib\\site-packages\\casadi\\casadi.py:10909: RuntimeWarning: Implicit conversion of symbolic CasADi type to numeric matrix not supported.\n",
      "This may occur when you pass a CasADi object to a numpy function.\n",
      "Use an equivalent CasADi function instead of that numpy function.\n",
      "  warnings.warn(\"Implicit conversion of symbolic CasADi type to numeric matrix not supported.\\n\"\n"
     ]
    },
    {
     "ename": "TypeError",
     "evalue": "operand type(s) all returned NotImplemented from __array_ufunc__(<ufunc 'add'>, 'reduce', MX((([0.75, 0.75, 0.5, 0.5, 0.5, 0.5, 0.5, 0.5, 0.5, 0.5, 0.5, 0.5, 0.5, 0.5, 0.5, 0.75, 0.75, 0.75, 0.75, 0.75, 0.75, 0.75, 0.75, 0.75, 0.75, 0.75, 0.5, 0.5, 0.5, 0.5, 0.5, 0.75, 0.75, 0.75, 0.75, 0.75, 0.75, 0.75, 0.75, 0.75, 0.75, 0.75, 0.75, 0.75, 0.75, 0.75, 0.75, 0.75, 0.75]*opti0_x_1[49:98])+(0.01*sq(opti0_x_1[49:98])))), axis=None, dtype=None): 'MX'",
     "output_type": "error",
     "traceback": [
      "\u001b[1;31m---------------------------------------------------------------------------\u001b[0m",
      "\u001b[1;31mTypeError\u001b[0m                                 Traceback (most recent call last)",
      "\u001b[1;32mc:\\Users\\lamar\\OneDrive\\Bureau\\Mines 1A\\Semestre 2\\optimisation\\Projet_Opti\\Projet.ipynb Cell 67'\u001b[0m in \u001b[0;36m<cell line: 1>\u001b[1;34m()\u001b[0m\n\u001b[1;32m----> <a href='vscode-notebook-cell:/c%3A/Users/lamar/OneDrive/Bureau/Mines%201A/Semestre%202/optimisation/Projet_Opti/Projet.ipynb#ch0000076?line=0'>1</a>\u001b[0m x1, x2, k \u001b[39m=\u001b[39m Uzawa_2()\n",
      "\u001b[1;32mc:\\Users\\lamar\\OneDrive\\Bureau\\Mines 1A\\Semestre 2\\optimisation\\Projet_Opti\\Projet.ipynb Cell 66'\u001b[0m in \u001b[0;36mUzawa_2\u001b[1;34m(eps, Niter, x1_0, x2_0, rho)\u001b[0m\n\u001b[0;32m     <a href='vscode-notebook-cell:/c%3A/Users/lamar/OneDrive/Bureau/Mines%201A/Semestre%202/optimisation/Projet_Opti/Projet.ipynb#ch0000064?line=9'>10</a>\u001b[0m opti \u001b[39m=\u001b[39m casadi\u001b[39m.\u001b[39mOpti()\n\u001b[0;32m     <a href='vscode-notebook-cell:/c%3A/Users/lamar/OneDrive/Bureau/Mines%201A/Semestre%202/optimisation/Projet_Opti/Projet.ipynb#ch0000064?line=10'>11</a>\u001b[0m x1 \u001b[39m=\u001b[39m opti\u001b[39m.\u001b[39mvariable(\u001b[39m2\u001b[39m\u001b[39m*\u001b[39mN\u001b[39m+\u001b[39m\u001b[39m2\u001b[39m)\n\u001b[1;32m---> <a href='vscode-notebook-cell:/c%3A/Users/lamar/OneDrive/Bureau/Mines%201A/Semestre%202/optimisation/Projet_Opti/Projet.ipynb#ch0000064?line=11'>12</a>\u001b[0m g \u001b[39m=\u001b[39m  np\u001b[39m.\u001b[39;49msum(dt\u001b[39m*\u001b[39;49mcost\u001b[39m*\u001b[39;49mx1[N\u001b[39m+\u001b[39;49m\u001b[39m1\u001b[39;49m:] \u001b[39m+\u001b[39;49m eps\u001b[39m*\u001b[39;49m(x1[N\u001b[39m+\u001b[39;49m\u001b[39m1\u001b[39;49m:]\u001b[39m*\u001b[39;49m\u001b[39m*\u001b[39;49m\u001b[39m2\u001b[39;49m))\u001b[39m+\u001b[39m np\u001b[39m.\u001b[39mdot(lamb, c1(x1))\n\u001b[0;32m     <a href='vscode-notebook-cell:/c%3A/Users/lamar/OneDrive/Bureau/Mines%201A/Semestre%202/optimisation/Projet_Opti/Projet.ipynb#ch0000064?line=12'>13</a>\u001b[0m opti\u001b[39m.\u001b[39mminimize(g)\n\u001b[0;32m     <a href='vscode-notebook-cell:/c%3A/Users/lamar/OneDrive/Bureau/Mines%201A/Semestre%202/optimisation/Projet_Opti/Projet.ipynb#ch0000064?line=13'>14</a>\u001b[0m x0 \u001b[39m=\u001b[39m np\u001b[39m.\u001b[39mconcatenate((Tm1\u001b[39m*\u001b[39mnp\u001b[39m.\u001b[39mones((N\u001b[39m+\u001b[39m\u001b[39m1\u001b[39m))), np\u001b[39m.\u001b[39mzeros(N\u001b[39m+\u001b[39m\u001b[39m1\u001b[39m))\n",
      "File \u001b[1;32m<__array_function__ internals>:180\u001b[0m, in \u001b[0;36msum\u001b[1;34m(*args, **kwargs)\u001b[0m\n",
      "File \u001b[1;32mc:\\Users\\lamar\\miniconda\\lib\\site-packages\\numpy\\core\\fromnumeric.py:2296\u001b[0m, in \u001b[0;36msum\u001b[1;34m(a, axis, dtype, out, keepdims, initial, where)\u001b[0m\n\u001b[0;32m   <a href='file:///c%3A/Users/lamar/miniconda/lib/site-packages/numpy/core/fromnumeric.py?line=2292'>2293</a>\u001b[0m         \u001b[39mreturn\u001b[39;00m out\n\u001b[0;32m   <a href='file:///c%3A/Users/lamar/miniconda/lib/site-packages/numpy/core/fromnumeric.py?line=2293'>2294</a>\u001b[0m     \u001b[39mreturn\u001b[39;00m res\n\u001b[1;32m-> <a href='file:///c%3A/Users/lamar/miniconda/lib/site-packages/numpy/core/fromnumeric.py?line=2295'>2296</a>\u001b[0m \u001b[39mreturn\u001b[39;00m _wrapreduction(a, np\u001b[39m.\u001b[39;49madd, \u001b[39m'\u001b[39;49m\u001b[39msum\u001b[39;49m\u001b[39m'\u001b[39;49m, axis, dtype, out, keepdims\u001b[39m=\u001b[39;49mkeepdims,\n\u001b[0;32m   <a href='file:///c%3A/Users/lamar/miniconda/lib/site-packages/numpy/core/fromnumeric.py?line=2296'>2297</a>\u001b[0m                       initial\u001b[39m=\u001b[39;49minitial, where\u001b[39m=\u001b[39;49mwhere)\n",
      "File \u001b[1;32mc:\\Users\\lamar\\miniconda\\lib\\site-packages\\numpy\\core\\fromnumeric.py:86\u001b[0m, in \u001b[0;36m_wrapreduction\u001b[1;34m(obj, ufunc, method, axis, dtype, out, **kwargs)\u001b[0m\n\u001b[0;32m     <a href='file:///c%3A/Users/lamar/miniconda/lib/site-packages/numpy/core/fromnumeric.py?line=82'>83</a>\u001b[0m         \u001b[39melse\u001b[39;00m:\n\u001b[0;32m     <a href='file:///c%3A/Users/lamar/miniconda/lib/site-packages/numpy/core/fromnumeric.py?line=83'>84</a>\u001b[0m             \u001b[39mreturn\u001b[39;00m reduction(axis\u001b[39m=\u001b[39maxis, out\u001b[39m=\u001b[39mout, \u001b[39m*\u001b[39m\u001b[39m*\u001b[39mpasskwargs)\n\u001b[1;32m---> <a href='file:///c%3A/Users/lamar/miniconda/lib/site-packages/numpy/core/fromnumeric.py?line=85'>86</a>\u001b[0m \u001b[39mreturn\u001b[39;00m ufunc\u001b[39m.\u001b[39mreduce(obj, axis, dtype, out, \u001b[39m*\u001b[39m\u001b[39m*\u001b[39mpasskwargs)\n",
      "\u001b[1;31mTypeError\u001b[0m: operand type(s) all returned NotImplemented from __array_ufunc__(<ufunc 'add'>, 'reduce', MX((([0.75, 0.75, 0.5, 0.5, 0.5, 0.5, 0.5, 0.5, 0.5, 0.5, 0.5, 0.5, 0.5, 0.5, 0.5, 0.75, 0.75, 0.75, 0.75, 0.75, 0.75, 0.75, 0.75, 0.75, 0.75, 0.75, 0.5, 0.5, 0.5, 0.5, 0.5, 0.75, 0.75, 0.75, 0.75, 0.75, 0.75, 0.75, 0.75, 0.75, 0.75, 0.75, 0.75, 0.75, 0.75, 0.75, 0.75, 0.75, 0.75]*opti0_x_1[49:98])+(0.01*sq(opti0_x_1[49:98])))), axis=None, dtype=None): 'MX'"
     ]
    }
   ],
   "source": [
    "x1, x2, k = Uzawa_2()"
   ]
  }
 ],
 "metadata": {
  "interpreter": {
   "hash": "9e4913c8d648209e9607d14ff0f28aef8ef8f9f746fa44e1a2fe4ec6148e5e48"
  },
  "kernelspec": {
   "display_name": "Python 3.9.7 ('base')",
   "language": "python",
   "name": "python3"
  },
  "language_info": {
   "codemirror_mode": {
    "name": "ipython",
    "version": 3
   },
   "file_extension": ".py",
   "mimetype": "text/x-python",
   "name": "python",
   "nbconvert_exporter": "python",
   "pygments_lexer": "ipython3",
   "version": "3.9.7"
  }
 },
 "nbformat": 4,
 "nbformat_minor": 2
}
