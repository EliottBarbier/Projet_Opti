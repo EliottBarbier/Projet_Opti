{
 "cells": [
  {
   "cell_type": "markdown",
   "metadata": {},
   "source": [
    "Projet d'optimisation groupe 1 : Maxence Lamarque / Eliott Barbier"
   ]
  },
  {
   "cell_type": "markdown",
   "metadata": {},
   "source": [
    "### Question 1\n",
    "\n",
    "Normalement la facture d'électrcité sur $[t_0, t_f]$ devrait s'écrire:\n",
    "$$\n",
    "\\int_{t_0}^{t_f}c(t)P(t)dt\n",
    "$$\n",
    "puisque $P(t)dt$ représente l'énergie consommée pendant dt\n",
    "C'est-à-dire une facture de, en approximant l'intégrale par la méthode des rectangles:\n",
    "$$\n",
    "\\boxed{\\sum_{i=1}^{N}\\Delta t c_i P_i}\n",
    "$$"
   ]
  },
  {
   "cell_type": "markdown",
   "metadata": {},
   "source": [
    "### Question 2\n",
    "On part de l'équation discrète pour essayer d'obtenir une équation continue, en approximant $T_{i+1} \\approx T(t_0 + \\Delta t)$, et $\\frac{dT}{dt} \\approx \\frac{T_{i+1} - T_i}{dt}$\n",
    "Et en utilisant la linéarisation de $e^{-(k+h)\\Delta t} - 1 \\approx -(k+h)\\Delta t$\n",
    "On a alors :\n",
    "$$\n",
    "\\boxed{\\frac{dT}{dt}= h(T^e - T) -kT +bP}\n",
    "$$\n",
    "\n",
    "On reconnait un terme de transfert conducto-convectif $ h(T^e - T)$, un terme de puissance interne dissipée $bP$ et enfin un terme de conduction dû au transfert de chaleur de l'extérieur vers l'intérieur $-kT$.\n",
    "Physiquement cette modélisation semble raisonnable, puisqu'elle inclue tous les transferts de chaleur de notre situation.\n",
    "\n",
    "Remarque : On a ici fait l'hypothèse que la température extérieure était constante, égale a $T_e$, ce qui n'est pas abberrant dans la mesure où on chauffe un intérieur.\n"
   ]
  },
  {
   "cell_type": "markdown",
   "metadata": {},
   "source": [
    "### Question 3\n",
    "\n",
    "On cherche à minimiser la facture, sous contrainte sur la température et la puissance dissipée, formellement en notant:\n",
    "$$x = (c_1, c_2, ..., c_N, P_1, ..., P_N) \\in \\mathbb{R}^{2N}, \\; f(x) = \\sum_{i=1}^{N}\\Delta t c_i P_i $$"
   ]
  },
  {
   "cell_type": "code",
   "execution_count": null,
   "metadata": {},
   "outputs": [],
   "source": []
  }
 ],
 "metadata": {
  "interpreter": {
   "hash": "23a6b913c5c0dcb48130fb95bc8c7b084c5a812df45cbb14e417b737a9d4ee46"
  },
  "kernelspec": {
   "display_name": "Python 3 (ipykernel)",
   "language": "python",
   "name": "python3"
  },
  "language_info": {
   "codemirror_mode": {
    "name": "ipython",
    "version": 3
   },
   "file_extension": ".py",
   "mimetype": "text/x-python",
   "name": "python",
   "nbconvert_exporter": "python",
   "pygments_lexer": "ipython3",
   "version": "3.9.7"
  }
 },
 "nbformat": 4,
 "nbformat_minor": 2
}
